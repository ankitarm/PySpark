{
  "nbformat": 4,
  "nbformat_minor": 0,
  "metadata": {
    "colab": {
      "provenance": [],
      "authorship_tag": "ABX9TyMBmxasiI2SKL0E3N3A0MOE",
      "include_colab_link": true
    },
    "kernelspec": {
      "name": "python3",
      "display_name": "Python 3"
    },
    "language_info": {
      "name": "python"
    }
  },
  "cells": [
    {
      "cell_type": "markdown",
      "metadata": {
        "id": "view-in-github",
        "colab_type": "text"
      },
      "source": [
        "<a href=\"https://colab.research.google.com/github/ankitarm/PySpark/blob/main/Basic_Pyspark.ipynb\" target=\"_parent\"><img src=\"https://colab.research.google.com/assets/colab-badge.svg\" alt=\"Open In Colab\"/></a>"
      ]
    },
    {
      "cell_type": "markdown",
      "source": [
        "1. Merge two data frames"
      ],
      "metadata": {
        "id": "EbeoyZWPCR5Q"
      }
    },
    {
      "cell_type": "code",
      "source": [
        "from pyspark.sql import SparkSession\n",
        "from pyspark.sql.functions import sum"
      ],
      "metadata": {
        "id": "LbRPCwrVCKMW"
      },
      "execution_count": null,
      "outputs": []
    },
    {
      "cell_type": "code",
      "source": [
        "spark = SparkSession.builder.appName(\"Merge\").getOrCreate()\n",
        "\n",
        "simpleData1 = [(1,\"name1\",\"cse\"),(2, \"name2\",\"extc\")]\n",
        "simpleschema1 = [\"ID\",\"NAME\",\"DEPT\"]\n",
        "\n",
        "simpleData2 = [(1,\"name1\",\"cse\"),(2, \"name2\",\"extc\")]\n",
        "simpleschema2 = [\"ID\",\"NAME\",\"DEPT\"]\n",
        "\n",
        "simpleDataframe1 = spark.createDataFrame(data = simpleData1, schema = simpleschema1)\n",
        "simpleDataframe1.show()\n",
        "simpleDataframe2 = spark.createDataFrame(data = simpleData2, schema = simpleschema2)\n",
        "simpleDataframe2.show()"
      ],
      "metadata": {
        "colab": {
          "base_uri": "https://localhost:8080/"
        },
        "id": "JsjKnvxADVHV",
        "outputId": "072f1564-8fd3-48d3-f44d-eeabd3d41299"
      },
      "execution_count": null,
      "outputs": [
        {
          "output_type": "stream",
          "name": "stdout",
          "text": [
            "+---+-----+----+\n",
            "| ID| NAME|DEPT|\n",
            "+---+-----+----+\n",
            "|  1|name1| cse|\n",
            "|  2|name2|extc|\n",
            "+---+-----+----+\n",
            "\n",
            "+---+-----+----+\n",
            "| ID| NAME|DEPT|\n",
            "+---+-----+----+\n",
            "|  1|name1| cse|\n",
            "|  2|name2|extc|\n",
            "+---+-----+----+\n",
            "\n"
          ]
        }
      ]
    },
    {
      "cell_type": "code",
      "source": [
        "# union we can use only if same number of attributies\n",
        "\n",
        "simpleDataunion = simpleDataframe1.union(simpleDataframe2)\n",
        "simpleDataunion.show()"
      ],
      "metadata": {
        "colab": {
          "base_uri": "https://localhost:8080/"
        },
        "id": "OlHCRTGYHG7T",
        "outputId": "3c617373-39bd-48b0-acb5-c3dcbbd43f55"
      },
      "execution_count": null,
      "outputs": [
        {
          "output_type": "stream",
          "name": "stdout",
          "text": [
            "+---+-----+----+\n",
            "| ID| NAME|DEPT|\n",
            "+---+-----+----+\n",
            "|  1|name1| cse|\n",
            "|  2|name2|extc|\n",
            "|  1|name1| cse|\n",
            "|  2|name2|extc|\n",
            "+---+-----+----+\n",
            "\n"
          ]
        }
      ]
    },
    {
      "cell_type": "code",
      "source": [
        "\"\"\"join - Since the two DataFrames are identical in terms of both the\n",
        "schema and the data, the join will merge every row in the first\n",
        "DataFrame with every row in the second DataFrame, resulting\n",
        "in a Cartesian product \"\"\"\n",
        "simpleDatajoin = simpleDataframe1.join(simpleDataframe2)\n",
        "simpleDatajoin.show()"
      ],
      "metadata": {
        "colab": {
          "base_uri": "https://localhost:8080/"
        },
        "id": "YuDO35sVH5n7",
        "outputId": "6c67e064-e5d5-4691-8560-1fe4bf2c923c"
      },
      "execution_count": null,
      "outputs": [
        {
          "output_type": "stream",
          "name": "stdout",
          "text": [
            "+---+-----+----+---+-----+----+\n",
            "| ID| NAME|DEPT| ID| NAME|DEPT|\n",
            "+---+-----+----+---+-----+----+\n",
            "|  1|name1| cse|  1|name1| cse|\n",
            "|  1|name1| cse|  2|name2|extc|\n",
            "|  2|name2|extc|  1|name1| cse|\n",
            "|  2|name2|extc|  2|name2|extc|\n",
            "+---+-----+----+---+-----+----+\n",
            "\n"
          ]
        }
      ]
    },
    {
      "cell_type": "code",
      "source": [
        "simpleData11 = [(1,\"name1\",\"cse\",12),(2, \"name2\",\"extc\",21)]\n",
        "simpleschema11 = [\"ID\",\"NAME\",\"DEPT\", \"AGE\"]\n",
        "simpleDataframe11 = spark.createDataFrame(simpleData11, simpleschema11)\n",
        "simpleDataframe11.show()"
      ],
      "metadata": {
        "colab": {
          "base_uri": "https://localhost:8080/"
        },
        "id": "sNoxVHSRP7uZ",
        "outputId": "e55602dc-a01b-401c-db5b-f106870c1b10"
      },
      "execution_count": null,
      "outputs": [
        {
          "output_type": "stream",
          "name": "stdout",
          "text": [
            "+---+-----+----+---+\n",
            "| ID| NAME|DEPT|AGE|\n",
            "+---+-----+----+---+\n",
            "|  1|name1| cse| 12|\n",
            "|  2|name2|extc| 21|\n",
            "+---+-----+----+---+\n",
            "\n"
          ]
        }
      ]
    },
    {
      "cell_type": "code",
      "source": [
        "#error as the number of columns not same\n",
        "simpleDataunion1 = simpleDataframe1.union(simpleDataframe11)\n",
        "simpleDataunion1.show()"
      ],
      "metadata": {
        "colab": {
          "base_uri": "https://localhost:8080/",
          "height": 425
        },
        "id": "0sB6uQjOQklw",
        "outputId": "79415164-5866-49e7-e80f-8536a0cdaba3"
      },
      "execution_count": null,
      "outputs": [
        {
          "output_type": "error",
          "ename": "AnalysisException",
          "evalue": "[NUM_COLUMNS_MISMATCH] UNION can only be performed on inputs with the same number of columns, but the first input has 3 columns and the second input has 4 columns.;\n'Union false, false\n:- LogicalRDD [ID#157L, NAME#158, DEPT#159], false\n+- LogicalRDD [ID#195L, NAME#196, DEPT#197, AGE#198L], false\n",
          "traceback": [
            "\u001b[0;31m---------------------------------------------------------------------------\u001b[0m",
            "\u001b[0;31mAnalysisException\u001b[0m                         Traceback (most recent call last)",
            "\u001b[0;32m<ipython-input-15-c23004abb04f>\u001b[0m in \u001b[0;36m<cell line: 0>\u001b[0;34m()\u001b[0m\n\u001b[0;32m----> 1\u001b[0;31m \u001b[0msimpleDataunion1\u001b[0m \u001b[0;34m=\u001b[0m \u001b[0msimpleDataframe1\u001b[0m\u001b[0;34m.\u001b[0m\u001b[0munion\u001b[0m\u001b[0;34m(\u001b[0m\u001b[0msimpleDataframe11\u001b[0m\u001b[0;34m)\u001b[0m\u001b[0;34m\u001b[0m\u001b[0;34m\u001b[0m\u001b[0m\n\u001b[0m\u001b[1;32m      2\u001b[0m \u001b[0msimpleDataunion1\u001b[0m\u001b[0;34m.\u001b[0m\u001b[0mshow\u001b[0m\u001b[0;34m(\u001b[0m\u001b[0;34m)\u001b[0m\u001b[0;34m\u001b[0m\u001b[0;34m\u001b[0m\u001b[0m\n",
            "\u001b[0;32m/usr/local/lib/python3.11/dist-packages/pyspark/sql/dataframe.py\u001b[0m in \u001b[0;36munion\u001b[0;34m(self, other)\u001b[0m\n\u001b[1;32m   3927\u001b[0m         \u001b[0;34m+\u001b[0m\u001b[0;34m-\u001b[0m\u001b[0;34m-\u001b[0m\u001b[0;34m-\u001b[0m\u001b[0;34m+\u001b[0m\u001b[0;34m-\u001b[0m\u001b[0;34m-\u001b[0m\u001b[0;34m-\u001b[0m\u001b[0;34m-\u001b[0m\u001b[0;34m-\u001b[0m\u001b[0;34m+\u001b[0m\u001b[0;34m\u001b[0m\u001b[0;34m\u001b[0m\u001b[0m\n\u001b[1;32m   3928\u001b[0m         \"\"\"\n\u001b[0;32m-> 3929\u001b[0;31m         \u001b[0;32mreturn\u001b[0m \u001b[0mDataFrame\u001b[0m\u001b[0;34m(\u001b[0m\u001b[0mself\u001b[0m\u001b[0;34m.\u001b[0m\u001b[0m_jdf\u001b[0m\u001b[0;34m.\u001b[0m\u001b[0munion\u001b[0m\u001b[0;34m(\u001b[0m\u001b[0mother\u001b[0m\u001b[0;34m.\u001b[0m\u001b[0m_jdf\u001b[0m\u001b[0;34m)\u001b[0m\u001b[0;34m,\u001b[0m \u001b[0mself\u001b[0m\u001b[0;34m.\u001b[0m\u001b[0msparkSession\u001b[0m\u001b[0;34m)\u001b[0m\u001b[0;34m\u001b[0m\u001b[0;34m\u001b[0m\u001b[0m\n\u001b[0m\u001b[1;32m   3930\u001b[0m \u001b[0;34m\u001b[0m\u001b[0m\n\u001b[1;32m   3931\u001b[0m     \u001b[0;32mdef\u001b[0m \u001b[0munionAll\u001b[0m\u001b[0;34m(\u001b[0m\u001b[0mself\u001b[0m\u001b[0;34m,\u001b[0m \u001b[0mother\u001b[0m\u001b[0;34m:\u001b[0m \u001b[0;34m\"DataFrame\"\u001b[0m\u001b[0;34m)\u001b[0m \u001b[0;34m->\u001b[0m \u001b[0;34m\"DataFrame\"\u001b[0m\u001b[0;34m:\u001b[0m\u001b[0;34m\u001b[0m\u001b[0;34m\u001b[0m\u001b[0m\n",
            "\u001b[0;32m/usr/local/lib/python3.11/dist-packages/py4j/java_gateway.py\u001b[0m in \u001b[0;36m__call__\u001b[0;34m(self, *args)\u001b[0m\n\u001b[1;32m   1320\u001b[0m \u001b[0;34m\u001b[0m\u001b[0m\n\u001b[1;32m   1321\u001b[0m         \u001b[0manswer\u001b[0m \u001b[0;34m=\u001b[0m \u001b[0mself\u001b[0m\u001b[0;34m.\u001b[0m\u001b[0mgateway_client\u001b[0m\u001b[0;34m.\u001b[0m\u001b[0msend_command\u001b[0m\u001b[0;34m(\u001b[0m\u001b[0mcommand\u001b[0m\u001b[0;34m)\u001b[0m\u001b[0;34m\u001b[0m\u001b[0;34m\u001b[0m\u001b[0m\n\u001b[0;32m-> 1322\u001b[0;31m         return_value = get_return_value(\n\u001b[0m\u001b[1;32m   1323\u001b[0m             answer, self.gateway_client, self.target_id, self.name)\n\u001b[1;32m   1324\u001b[0m \u001b[0;34m\u001b[0m\u001b[0m\n",
            "\u001b[0;32m/usr/local/lib/python3.11/dist-packages/pyspark/errors/exceptions/captured.py\u001b[0m in \u001b[0;36mdeco\u001b[0;34m(*a, **kw)\u001b[0m\n\u001b[1;32m    183\u001b[0m                 \u001b[0;31m# Hide where the exception came from that shows a non-Pythonic\u001b[0m\u001b[0;34m\u001b[0m\u001b[0;34m\u001b[0m\u001b[0m\n\u001b[1;32m    184\u001b[0m                 \u001b[0;31m# JVM exception message.\u001b[0m\u001b[0;34m\u001b[0m\u001b[0;34m\u001b[0m\u001b[0m\n\u001b[0;32m--> 185\u001b[0;31m                 \u001b[0;32mraise\u001b[0m \u001b[0mconverted\u001b[0m \u001b[0;32mfrom\u001b[0m \u001b[0;32mNone\u001b[0m\u001b[0;34m\u001b[0m\u001b[0;34m\u001b[0m\u001b[0m\n\u001b[0m\u001b[1;32m    186\u001b[0m             \u001b[0;32melse\u001b[0m\u001b[0;34m:\u001b[0m\u001b[0;34m\u001b[0m\u001b[0;34m\u001b[0m\u001b[0m\n\u001b[1;32m    187\u001b[0m                 \u001b[0;32mraise\u001b[0m\u001b[0;34m\u001b[0m\u001b[0;34m\u001b[0m\u001b[0m\n",
            "\u001b[0;31mAnalysisException\u001b[0m: [NUM_COLUMNS_MISMATCH] UNION can only be performed on inputs with the same number of columns, but the first input has 3 columns and the second input has 4 columns.;\n'Union false, false\n:- LogicalRDD [ID#157L, NAME#158, DEPT#159], false\n+- LogicalRDD [ID#195L, NAME#196, DEPT#197, AGE#198L], false\n"
          ]
        }
      ]
    },
    {
      "cell_type": "code",
      "source": [
        "#join - as the columns differe, so no cross join instead inner join\n",
        "\n",
        "simpleDatajoin1 = simpleDataframe1.join(simpleDataframe11)\n",
        "simpleDatajoin1.show()\n"
      ],
      "metadata": {
        "colab": {
          "base_uri": "https://localhost:8080/"
        },
        "id": "ESCE1o6qQ4Q4",
        "outputId": "ac05d301-5467-47cf-a306-5ee81fd1533b"
      },
      "execution_count": null,
      "outputs": [
        {
          "output_type": "stream",
          "name": "stdout",
          "text": [
            "+---+-----+----+---+-----+----+---+\n",
            "| ID| NAME|DEPT| ID| NAME|DEPT|AGE|\n",
            "+---+-----+----+---+-----+----+---+\n",
            "|  1|name1| cse|  1|name1| cse| 12|\n",
            "|  1|name1| cse|  2|name2|extc| 21|\n",
            "|  2|name2|extc|  1|name1| cse| 12|\n",
            "|  2|name2|extc|  2|name2|extc| 21|\n",
            "+---+-----+----+---+-----+----+---+\n",
            "\n"
          ]
        }
      ]
    },
    {
      "cell_type": "code",
      "source": [
        "from pyspark.sql.functions import lit\n",
        "simpleDataframe21 = simpleDataframe2.withColumn(\"AGE\", lit(\"null\"))\n",
        "simpleDataframe21.show()"
      ],
      "metadata": {
        "colab": {
          "base_uri": "https://localhost:8080/"
        },
        "id": "q9R0lL-PRW8f",
        "outputId": "e29231a6-321e-4dc7-e211-d32eb78daeae"
      },
      "execution_count": null,
      "outputs": [
        {
          "output_type": "stream",
          "name": "stdout",
          "text": [
            "+---+-----+----+----+\n",
            "| ID| NAME|DEPT| AGE|\n",
            "+---+-----+----+----+\n",
            "|  1|name1| cse|null|\n",
            "|  2|name2|extc|null|\n",
            "+---+-----+----+----+\n",
            "\n"
          ]
        }
      ]
    },
    {
      "cell_type": "code",
      "source": [
        "simpleDataunifies1 = simpleDataframe21.union(simpleDataframe11)\n",
        "simpleDataunifies1.show()"
      ],
      "metadata": {
        "colab": {
          "base_uri": "https://localhost:8080/"
        },
        "id": "UVTNWG4bSGjp",
        "outputId": "66822f44-e947-44f8-cd2a-8f9715b2e2ae"
      },
      "execution_count": null,
      "outputs": [
        {
          "output_type": "stream",
          "name": "stdout",
          "text": [
            "+---+-----+----+----+\n",
            "| ID| NAME|DEPT| AGE|\n",
            "+---+-----+----+----+\n",
            "|  1|name1| cse|null|\n",
            "|  2|name2|extc|null|\n",
            "|  1|name1| cse|  12|\n",
            "|  2|name2|extc|  21|\n",
            "+---+-----+----+----+\n",
            "\n"
          ]
        }
      ]
    },
    {
      "cell_type": "markdown",
      "source": [
        "same schema - two dataframes will do cross join\n",
        "\n",
        "\n",
        "same number of columns - union will work as long as datatype same\n"
      ],
      "metadata": {
        "id": "WlS49hV6CQQO"
      }
    },
    {
      "cell_type": "code",
      "source": [
        "simpleData22 = [(1,\"name1\",\"cse\",11),(2, \"name2\",\"extc\",21)]\n",
        "simpleschema22 = [\"ID\",\"NAME\",\"DEPT\", \"AGE\"]\n",
        "simpleDataframe22 = spark.createDataFrame(simpleData22, simpleschema22)\n",
        "simpleDataframe22.show()\n",
        "simpleDataframe11.show()"
      ],
      "metadata": {
        "colab": {
          "base_uri": "https://localhost:8080/"
        },
        "id": "XHKkw81yS3g3",
        "outputId": "68c86314-d6ed-4bd0-b4fe-e01131fe90c7"
      },
      "execution_count": null,
      "outputs": [
        {
          "output_type": "stream",
          "name": "stdout",
          "text": [
            "+---+-----+----+---+\n",
            "| ID| NAME|DEPT|AGE|\n",
            "+---+-----+----+---+\n",
            "|  1|name1| cse| 11|\n",
            "|  2|name2|extc| 21|\n",
            "+---+-----+----+---+\n",
            "\n",
            "+---+-----+----+---+\n",
            "| ID| NAME|DEPT|AGE|\n",
            "+---+-----+----+---+\n",
            "|  1|name1| cse| 12|\n",
            "|  2|name2|extc| 21|\n",
            "+---+-----+----+---+\n",
            "\n"
          ]
        }
      ]
    },
    {
      "cell_type": "code",
      "source": [
        "#cross\n",
        "simpleDatacrossjoin = simpleDataframe11.join(simpleDataframe22)\n",
        "simpleDatacrossjoin.show()"
      ],
      "metadata": {
        "colab": {
          "base_uri": "https://localhost:8080/"
        },
        "id": "6D18V4maW6nf",
        "outputId": "5f8c9490-a135-4350-ec48-ad283592a28b"
      },
      "execution_count": null,
      "outputs": [
        {
          "output_type": "stream",
          "name": "stdout",
          "text": [
            "+---+-----+----+---+---+-----+----+---+\n",
            "| ID| NAME|DEPT|AGE| ID| NAME|DEPT|AGE|\n",
            "+---+-----+----+---+---+-----+----+---+\n",
            "|  1|name1| cse| 12|  1|name1| cse| 11|\n",
            "|  1|name1| cse| 12|  2|name2|extc| 21|\n",
            "|  2|name2|extc| 21|  1|name1| cse| 11|\n",
            "|  2|name2|extc| 21|  2|name2|extc| 21|\n",
            "+---+-----+----+---+---+-----+----+---+\n",
            "\n"
          ]
        }
      ]
    },
    {
      "cell_type": "code",
      "source": [
        "#inner\n",
        "simpleDatainnerjoin1 = simpleDataframe11.join(simpleDataframe22, on = \"ID\",how =\"inner\")\n",
        "simpleDatainnerjoin1.show()"
      ],
      "metadata": {
        "colab": {
          "base_uri": "https://localhost:8080/"
        },
        "id": "QKvQT9O3XR_v",
        "outputId": "7c7296e7-fa30-4571-f049-0fbf9b107e04"
      },
      "execution_count": null,
      "outputs": [
        {
          "output_type": "stream",
          "name": "stdout",
          "text": [
            "+---+-----+----+---+-----+----+---+\n",
            "| ID| NAME|DEPT|AGE| NAME|DEPT|AGE|\n",
            "+---+-----+----+---+-----+----+---+\n",
            "|  1|name1| cse| 12|name1| cse| 11|\n",
            "|  2|name2|extc| 21|name2|extc| 21|\n",
            "+---+-----+----+---+-----+----+---+\n",
            "\n"
          ]
        }
      ]
    },
    {
      "cell_type": "code",
      "source": [
        "#left-left outer\n",
        "simpleDataleftjoin = simpleDataframe11.join(simpleDataframe22, on = \"AGE\",how =\"left\")\n",
        "simpleDataleftjoin.show()"
      ],
      "metadata": {
        "colab": {
          "base_uri": "https://localhost:8080/"
        },
        "id": "vhfub25VXxtH",
        "outputId": "7c86c6fa-88f4-4337-dc70-3800cb99302c"
      },
      "execution_count": null,
      "outputs": [
        {
          "output_type": "stream",
          "name": "stdout",
          "text": [
            "+---+---+-----+----+----+-----+----+\n",
            "|AGE| ID| NAME|DEPT|  ID| NAME|DEPT|\n",
            "+---+---+-----+----+----+-----+----+\n",
            "| 12|  1|name1| cse|NULL| NULL|NULL|\n",
            "| 21|  2|name2|extc|   2|name2|extc|\n",
            "+---+---+-----+----+----+-----+----+\n",
            "\n"
          ]
        }
      ]
    },
    {
      "cell_type": "code",
      "source": [
        "#right-right outer\n",
        "simpleDatarightjoin = simpleDataframe11.join(simpleDataframe22, on = \"AGE\",how =\"right\")\n",
        "simpleDatarightjoin.show()"
      ],
      "metadata": {
        "colab": {
          "base_uri": "https://localhost:8080/"
        },
        "id": "CpQr0pYzYa3a",
        "outputId": "5f550d74-d0ff-4cf6-8322-b441e24b6c30"
      },
      "execution_count": null,
      "outputs": [
        {
          "output_type": "stream",
          "name": "stdout",
          "text": [
            "+---+----+-----+----+---+-----+----+\n",
            "|AGE|  ID| NAME|DEPT| ID| NAME|DEPT|\n",
            "+---+----+-----+----+---+-----+----+\n",
            "| 11|NULL| NULL|NULL|  1|name1| cse|\n",
            "| 21|   2|name2|extc|  2|name2|extc|\n",
            "+---+----+-----+----+---+-----+----+\n",
            "\n"
          ]
        }
      ]
    },
    {
      "cell_type": "code",
      "source": [
        "#full outer\n",
        "simpleDatarightjoin = simpleDataframe11.join(simpleDataframe22, on = \"AGE\",how =\"outer\")\n",
        "simpleDatarightjoin.show()"
      ],
      "metadata": {
        "colab": {
          "base_uri": "https://localhost:8080/"
        },
        "id": "Qb7YGsCnY-As",
        "outputId": "6c447093-6aef-4951-ef01-fb39b2a29bd3"
      },
      "execution_count": null,
      "outputs": [
        {
          "output_type": "stream",
          "name": "stdout",
          "text": [
            "+---+----+-----+----+----+-----+----+\n",
            "|AGE|  ID| NAME|DEPT|  ID| NAME|DEPT|\n",
            "+---+----+-----+----+----+-----+----+\n",
            "| 11|NULL| NULL|NULL|   1|name1| cse|\n",
            "| 12|   1|name1| cse|NULL| NULL|NULL|\n",
            "| 21|   2|name2|extc|   2|name2|extc|\n",
            "+---+----+-----+----+----+-----+----+\n",
            "\n"
          ]
        }
      ]
    },
    {
      "cell_type": "code",
      "source": [
        "#left-semi\n",
        "simpleDataleftsemijoin = simpleDataframe11.join(simpleDataframe22, on = \"AGE\",how =\"left_semi\")\n",
        "simpleDataleftsemijoin.show()"
      ],
      "metadata": {
        "colab": {
          "base_uri": "https://localhost:8080/"
        },
        "id": "D0uKkZEdZdmu",
        "outputId": "a774cdfd-bbef-4979-da27-a619d4e71ed8"
      },
      "execution_count": null,
      "outputs": [
        {
          "output_type": "stream",
          "name": "stdout",
          "text": [
            "+---+---+-----+----+\n",
            "|AGE| ID| NAME|DEPT|\n",
            "+---+---+-----+----+\n",
            "| 21|  2|name2|extc|\n",
            "+---+---+-----+----+\n",
            "\n"
          ]
        }
      ]
    },
    {
      "cell_type": "code",
      "source": [
        "#left-anti\n",
        "simpleDataleftantijoin = simpleDataframe11.join(simpleDataframe22, on = \"AGE\",how =\"left_anti\")\n",
        "simpleDataleftantijoin.show()"
      ],
      "metadata": {
        "colab": {
          "base_uri": "https://localhost:8080/"
        },
        "id": "-ftB8l1GaVeT",
        "outputId": "cfc5fc99-38c4-49f4-ec13-c9fcadd49d36"
      },
      "execution_count": null,
      "outputs": [
        {
          "output_type": "stream",
          "name": "stdout",
          "text": [
            "+---+---+-----+----+\n",
            "|AGE| ID| NAME|DEPT|\n",
            "+---+---+-----+----+\n",
            "| 12|  1|name1| cse|\n",
            "+---+---+-----+----+\n",
            "\n"
          ]
        }
      ]
    },
    {
      "cell_type": "code",
      "source": [
        "#joining on multiple columns\n",
        "simpleDatamulcol = simpleDataframe11.join(simpleDataframe22, on = [\"ID\",\"NAME\"],how =\"inner\")\n",
        "simpleDatamulcol.show()"
      ],
      "metadata": {
        "colab": {
          "base_uri": "https://localhost:8080/"
        },
        "id": "Yvo-CwExdCPW",
        "outputId": "21ba1af0-ac58-4095-ea94-de52bcfb3a9a"
      },
      "execution_count": null,
      "outputs": [
        {
          "output_type": "stream",
          "name": "stdout",
          "text": [
            "+---+-----+----+---+----+---+\n",
            "| ID| NAME|DEPT|AGE|DEPT|AGE|\n",
            "+---+-----+----+---+----+---+\n",
            "|  1|name1| cse| 12| cse| 11|\n",
            "|  2|name2|extc| 21|extc| 21|\n",
            "+---+-----+----+---+----+---+\n",
            "\n"
          ]
        }
      ]
    },
    {
      "cell_type": "code",
      "source": [
        "#joining on different column names\n",
        "simpleDatadiffcol = simpleDataframe11.join(simpleDataframe22,on = [simpleDataframe11.ID == simpleDataframe22.ID , simpleDataframe11.NAME == simpleDataframe22.NAME],how =\"inner\")\n",
        "simpleDatadiffcol.show()"
      ],
      "metadata": {
        "colab": {
          "base_uri": "https://localhost:8080/"
        },
        "id": "lZMpW8WGfsU2",
        "outputId": "b7200e51-a0b6-40c2-de45-78aa4a595039"
      },
      "execution_count": null,
      "outputs": [
        {
          "output_type": "stream",
          "name": "stdout",
          "text": [
            "+---+-----+----+---+---+-----+----+---+\n",
            "| ID| NAME|DEPT|AGE| ID| NAME|DEPT|AGE|\n",
            "+---+-----+----+---+---+-----+----+---+\n",
            "|  1|name1| cse| 12|  1|name1| cse| 11|\n",
            "|  2|name2|extc| 21|  2|name2|extc| 21|\n",
            "+---+-----+----+---+---+-----+----+---+\n",
            "\n"
          ]
        }
      ]
    },
    {
      "cell_type": "markdown",
      "source": [
        "**2. Explode Column using Pyspark**"
      ],
      "metadata": {
        "id": "CTiqpuqHhPtV"
      }
    },
    {
      "cell_type": "code",
      "source": [
        "from pyspark.sql.functions import explode, split\n",
        "\n",
        "data21 = [(1,[\"a\",\"b\"]),(2,[\"c\",\"l\"]),(3,[\"f\",\"u\"])]\n",
        "schema21 = [\"ID\",\"Name\"]\n",
        "dataframe21 = spark.createDataFrame(data21,schema21)\n",
        "dataframe21.show()"
      ],
      "metadata": {
        "colab": {
          "base_uri": "https://localhost:8080/"
        },
        "id": "o5cQIbjlhaad",
        "outputId": "258f8df6-a230-41a3-b41e-980f43c008ba"
      },
      "execution_count": null,
      "outputs": [
        {
          "output_type": "stream",
          "name": "stdout",
          "text": [
            "+---+------+\n",
            "| ID|  Name|\n",
            "+---+------+\n",
            "|  1|[a, b]|\n",
            "|  2|[c, l]|\n",
            "|  3|[f, u]|\n",
            "+---+------+\n",
            "\n"
          ]
        }
      ]
    },
    {
      "cell_type": "code",
      "source": [
        "dataframe21explode = dataframe21.select(\"ID\",explode(\"Name\"))\n",
        "dataframe21explode.show()"
      ],
      "metadata": {
        "colab": {
          "base_uri": "https://localhost:8080/"
        },
        "id": "Ksd1UKWnjm7E",
        "outputId": "2642f2bb-ab6f-4205-9996-b10d73a0070d"
      },
      "execution_count": null,
      "outputs": [
        {
          "output_type": "stream",
          "name": "stdout",
          "text": [
            "+---+---+\n",
            "| ID|col|\n",
            "+---+---+\n",
            "|  1|  a|\n",
            "|  1|  b|\n",
            "|  2|  c|\n",
            "|  2|  l|\n",
            "|  3|  f|\n",
            "|  3|  u|\n",
            "+---+---+\n",
            "\n"
          ]
        }
      ]
    },
    {
      "cell_type": "code",
      "source": [
        "dataframe22explode = dataframe21.withColumn(\"Name1\",explode(\"Name\"))\n",
        "dataframe22explode.show()"
      ],
      "metadata": {
        "colab": {
          "base_uri": "https://localhost:8080/"
        },
        "id": "kKuurdgZkq69",
        "outputId": "5e024149-c1ca-4673-a5cd-309edf3ff38e"
      },
      "execution_count": null,
      "outputs": [
        {
          "output_type": "stream",
          "name": "stdout",
          "text": [
            "+---+------+-----+\n",
            "| ID|  Name|Name1|\n",
            "+---+------+-----+\n",
            "|  1|[a, b]|    a|\n",
            "|  1|[a, b]|    b|\n",
            "|  2|[c, l]|    c|\n",
            "|  2|[c, l]|    l|\n",
            "|  3|[f, u]|    f|\n",
            "|  3|[f, u]|    u|\n",
            "+---+------+-----+\n",
            "\n"
          ]
        }
      ]
    },
    {
      "cell_type": "markdown",
      "source": [
        "**3. Solve using Regex**\n"
      ],
      "metadata": {
        "id": "3yI8mssFmUEx"
      }
    },
    {
      "cell_type": "code",
      "source": [
        "from pyspark.sql import SparkSession\n",
        "from pyspark.sql.functions import sum, rlike, col\n",
        "\n",
        "spark = SparkSession.builder.appName(\"Regex\").getOrCreate()\n",
        "data30 = [(1,\"Shivam\",\"U67567879\"), (2,\"Sagar\",\"5678909876\"), (3, \"Muni\", \"45678u678\")]\n",
        "schema30 = [\"ID\",\"Name\",\"Mobileno\"]\n",
        "df30 = spark.createDataFrame(data30,schema30)\n",
        "df30.show()"
      ],
      "metadata": {
        "id": "YLOhH6Fkmcpw",
        "colab": {
          "base_uri": "https://localhost:8080/"
        },
        "outputId": "23db1ae0-3629-48df-d3fb-bfc988a36a16"
      },
      "execution_count": 4,
      "outputs": [
        {
          "output_type": "stream",
          "name": "stdout",
          "text": [
            "+---+------+----------+\n",
            "| ID|  Name|  Mobileno|\n",
            "+---+------+----------+\n",
            "|  1|Shivam| U67567879|\n",
            "|  2| Sagar|5678909876|\n",
            "|  3|  Muni| 45678u678|\n",
            "+---+------+----------+\n",
            "\n"
          ]
        }
      ]
    },
    {
      "cell_type": "code",
      "source": [
        "df30.filter(col(\"Mobileno\").rlike(\"^[0-9]+$\")).show()"
      ],
      "metadata": {
        "colab": {
          "base_uri": "https://localhost:8080/"
        },
        "id": "nOCv3A1FoeGL",
        "outputId": "47d8628e-e938-400e-cf27-3704875248ad"
      },
      "execution_count": 6,
      "outputs": [
        {
          "output_type": "stream",
          "name": "stdout",
          "text": [
            "+---+-----+----------+\n",
            "| ID| Name|  Mobileno|\n",
            "+---+-----+----------+\n",
            "|  2|Sagar|5678909876|\n",
            "+---+-----+----------+\n",
            "\n"
          ]
        }
      ]
    },
    {
      "cell_type": "markdown",
      "source": [
        "***createOrReplaceTempView()***"
      ],
      "metadata": {
        "id": "abJeYcgxtb9m"
      }
    },
    {
      "cell_type": "code",
      "source": [
        "df30.createOrReplaceTempView(\"dataf30\")"
      ],
      "metadata": {
        "colab": {
          "base_uri": "https://localhost:8080/",
          "height": 34
        },
        "id": "GxjqvuLvsHH5",
        "outputId": "1a921e18-c8e2-43e0-c115-6871c01c5214"
      },
      "execution_count": 10,
      "outputs": [
        {
          "output_type": "display_data",
          "data": {
            "text/plain": [
              "None"
            ]
          },
          "metadata": {}
        }
      ]
    },
    {
      "cell_type": "code",
      "source": [
        "df31 = spark.sql(\"\"\"select * from dataf30 where Mobileno REGEXP '^[0-9]+$'\"\"\")\n",
        "df31.show()"
      ],
      "metadata": {
        "colab": {
          "base_uri": "https://localhost:8080/"
        },
        "id": "1cfAEERqsq0H",
        "outputId": "3f85b59b-c17e-49ea-e9bd-2bf8c1f3ce46"
      },
      "execution_count": 13,
      "outputs": [
        {
          "output_type": "stream",
          "name": "stdout",
          "text": [
            "+---+-----+----------+\n",
            "| ID| Name|  Mobileno|\n",
            "+---+-----+----------+\n",
            "|  2|Sagar|5678909876|\n",
            "+---+-----+----------+\n",
            "\n"
          ]
        }
      ]
    },
    {
      "cell_type": "markdown",
      "source": [
        "**4. Count rows in each column where NULLs present**"
      ],
      "metadata": {
        "id": "fiYzbPDiu1Jo"
      }
    },
    {
      "cell_type": "code",
      "source": [
        "from pyspark.sql.functions import col, sum, when\n",
        "from pyspark.sql.types import StructType, StructField, IntegerType, StringType\n",
        "\n",
        "data40 = [\n",
        "    (1, \"Alice\", \"1234567890\"),\n",
        "    (2, None,    \"9876543210\"),\n",
        "    (3, \"Charlie\", None),\n",
        "    (4, None,    None),\n",
        "    (None, \"Eve\", \"5556667777\")\n",
        "]\n",
        "\n",
        "# Schema definition\n",
        "schema40 = StructType([\n",
        "    StructField(\"ID\", IntegerType(), True),\n",
        "    StructField(\"Name\", StringType(), True),\n",
        "    StructField(\"Mobile\", StringType(), True)\n",
        "])\n",
        "\n",
        "# Create DataFrame\n",
        "df40 = spark.createDataFrame(data40, schema40)\n",
        "\n",
        "df40.show()"
      ],
      "metadata": {
        "colab": {
          "base_uri": "https://localhost:8080/"
        },
        "id": "dz7Q6mQbublW",
        "outputId": "a49b87d7-fd0f-4ae1-c0c5-cd647a97c7d2"
      },
      "execution_count": 14,
      "outputs": [
        {
          "output_type": "stream",
          "name": "stdout",
          "text": [
            "+----+-------+----------+\n",
            "|  ID|   Name|    Mobile|\n",
            "+----+-------+----------+\n",
            "|   1|  Alice|1234567890|\n",
            "|   2|   NULL|9876543210|\n",
            "|   3|Charlie|      NULL|\n",
            "|   4|   NULL|      NULL|\n",
            "|NULL|    Eve|5556667777|\n",
            "+----+-------+----------+\n",
            "\n"
          ]
        }
      ]
    },
    {
      "cell_type": "markdown",
      "source": [
        "List comprehension python code bellow"
      ],
      "metadata": {
        "id": "ZNL7YuXiz8h2"
      }
    },
    {
      "cell_type": "code",
      "source": [
        "df41nulls = df40.select(\n",
        "    [sum(when(col(c).isNull(),1).otherwise(0)).alias(c+\"_Nulls\")\n",
        "    for c in df40.columns]\n",
        ")\n",
        "df41nulls.show()"
      ],
      "metadata": {
        "colab": {
          "base_uri": "https://localhost:8080/"
        },
        "id": "rJwhykPkvhva",
        "outputId": "f832d2e5-e08e-44a5-d7b6-f6a712ff23ca"
      },
      "execution_count": 16,
      "outputs": [
        {
          "output_type": "stream",
          "name": "stdout",
          "text": [
            "+--------+----------+------------+\n",
            "|ID_Nulls|Name_Nulls|Mobile_Nulls|\n",
            "+--------+----------+------------+\n",
            "|       1|         2|           2|\n",
            "+--------+----------+------------+\n",
            "\n"
          ]
        }
      ]
    },
    {
      "cell_type": "markdown",
      "source": [
        "**5. Handling multiple delimiters**"
      ],
      "metadata": {
        "id": "LCojtPCH0JQB"
      }
    },
    {
      "cell_type": "code",
      "source": [
        "from pyspark.sql.functions import split, regexp_replace\n",
        "data5 = [\n",
        "    (1, \"apple,banana|cherry\"),\n",
        "    (2, \"grape;orange,kiwi\"),\n",
        "    (3, \"mango|lemon;pineapple\"),\n",
        "    (4, None)\n",
        "]\n",
        "\n",
        "columns5 = [\"ID\", \"Fruits\"]\n",
        "df5 = spark.createDataFrame(data5, columns5)\n",
        "df5.show(truncate=False)"
      ],
      "metadata": {
        "colab": {
          "base_uri": "https://localhost:8080/"
        },
        "id": "IwD45CuLzsUx",
        "outputId": "f80fe3b7-1d2d-4397-aaac-d9160aa6ffed"
      },
      "execution_count": 20,
      "outputs": [
        {
          "output_type": "stream",
          "name": "stdout",
          "text": [
            "+---+---------------------+\n",
            "|ID |Fruits               |\n",
            "+---+---------------------+\n",
            "|1  |apple,banana|cherry  |\n",
            "|2  |grape;orange,kiwi    |\n",
            "|3  |mango|lemon;pineapple|\n",
            "|4  |NULL                 |\n",
            "+---+---------------------+\n",
            "\n"
          ]
        }
      ]
    },
    {
      "cell_type": "code",
      "source": [
        "df51 = df5.withColumn(\"Fruits_Normalized\",regexp_replace(\"Fruits\",\"[,|:;]\",\",\"))\n",
        "df51.show()"
      ],
      "metadata": {
        "colab": {
          "base_uri": "https://localhost:8080/"
        },
        "id": "st_L-FKv1qro",
        "outputId": "92c24b32-2762-493f-e4ab-15df32a3f5eb"
      },
      "execution_count": 23,
      "outputs": [
        {
          "output_type": "stream",
          "name": "stdout",
          "text": [
            "+---+--------------------+--------------------+\n",
            "| ID|              Fruits|   Fruits_Normalized|\n",
            "+---+--------------------+--------------------+\n",
            "|  1| apple,banana|cherry| apple,banana,cherry|\n",
            "|  2|   grape;orange,kiwi|   grape,orange,kiwi|\n",
            "|  3|mango|lemon;pinea...|mango,lemon,pinea...|\n",
            "|  4|                NULL|                NULL|\n",
            "+---+--------------------+--------------------+\n",
            "\n"
          ]
        }
      ]
    },
    {
      "cell_type": "code",
      "source": [
        "df52 = df51.withColumn(\"Fruit_Split\", split(\"Fruits_Normalized\",\",\"))\n",
        "df52.show()"
      ],
      "metadata": {
        "colab": {
          "base_uri": "https://localhost:8080/"
        },
        "id": "9_dH1gXy3S1g",
        "outputId": "c9299d32-bdf6-4054-bcaa-dd76b748a728"
      },
      "execution_count": 25,
      "outputs": [
        {
          "output_type": "stream",
          "name": "stdout",
          "text": [
            "+---+--------------------+--------------------+--------------------+\n",
            "| ID|              Fruits|   Fruits_Normalized|         Fruit_Split|\n",
            "+---+--------------------+--------------------+--------------------+\n",
            "|  1| apple,banana|cherry| apple,banana,cherry|[apple, banana, c...|\n",
            "|  2|   grape;orange,kiwi|   grape,orange,kiwi|[grape, orange, k...|\n",
            "|  3|mango|lemon;pinea...|mango,lemon,pinea...|[mango, lemon, pi...|\n",
            "|  4|                NULL|                NULL|                NULL|\n",
            "+---+--------------------+--------------------+--------------------+\n",
            "\n"
          ]
        }
      ]
    },
    {
      "cell_type": "code",
      "source": [],
      "metadata": {
        "id": "3QicP-jr5H4O"
      },
      "execution_count": null,
      "outputs": []
    }
  ]
}