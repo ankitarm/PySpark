{
  "nbformat": 4,
  "nbformat_minor": 0,
  "metadata": {
    "colab": {
      "provenance": []
    },
    "kernelspec": {
      "name": "python3",
      "display_name": "Python 3"
    },
    "language_info": {
      "name": "python"
    }
  },
  "cells": [
    {
      "cell_type": "code",
      "execution_count": null,
      "metadata": {
        "id": "8w86q4odhN7M"
      },
      "outputs": [],
      "source": []
    },
    {
      "cell_type": "markdown",
      "source": [
        "**Dataframe**"
      ],
      "metadata": {
        "id": "BTsXDxFchTup"
      }
    },
    {
      "cell_type": "code",
      "source": [
        "from pyspark.sql import SparkSession\n",
        "from datetime import datetime, date\n",
        "from pyspark.sql import Row, Column\n",
        "\n",
        "spark = SparkSession.builder.getOrCreate()\n",
        "\n"
      ],
      "metadata": {
        "id": "P5GifDJWhO7U"
      },
      "execution_count": null,
      "outputs": []
    },
    {
      "cell_type": "markdown",
      "source": [
        "**Creating dataframe from spark**"
      ],
      "metadata": {
        "id": "AryApNBNjKvX"
      }
    },
    {
      "cell_type": "code",
      "source": [
        "df = spark.creatDataFrame([],schema ='a long, b double, c string')"
      ],
      "metadata": {
        "id": "VJyZuyKBkVhJ"
      },
      "execution_count": null,
      "outputs": []
    },
    {
      "cell_type": "code",
      "source": [
        "df = spark.createDataFrame([\n",
        "    Row(a=1, b=2., c='string1', d=date(2000, 1, 1), e=datetime(2000, 1, 1, 12, 0)),\n",
        "    Row(a=2, b=3., c='string2', d=date(2000, 2, 1), e=datetime(2000, 1, 2, 12, 0)),\n",
        "    Row(a=4, b=5., c='string3', d=date(2000, 3, 1), e=datetime(2000, 1, 3, 12, 0))\n",
        " ])\n",
        "df\n"
      ],
      "metadata": {
        "colab": {
          "base_uri": "https://localhost:8080/"
        },
        "id": "S2MPwWA5jVNc",
        "outputId": "27d50856-a371-4557-dc9e-d9027388098b"
      },
      "execution_count": null,
      "outputs": [
        {
          "output_type": "execute_result",
          "data": {
            "text/plain": [
              "DataFrame[a: bigint, b: double, c: string, d: date, e: timestamp]"
            ]
          },
          "metadata": {},
          "execution_count": 5
        }
      ]
    },
    {
      "cell_type": "markdown",
      "source": [
        "**Creating dataframe using pandas**"
      ],
      "metadata": {
        "id": "o2rCOc4QkF7d"
      }
    },
    {
      "cell_type": "markdown",
      "source": [],
      "metadata": {
        "id": "Nvu7EoNvjRje"
      }
    },
    {
      "cell_type": "code",
      "source": [
        "import pandas as pd\n",
        "pandadf = pd.DataFrame({\n",
        "    'a':[1,2,3],\n",
        "    'b':[1.2,2.3, 3.4]\n",
        "})\n",
        "df1 = spark.createDataFrame(pandadf)\n",
        "df1\n"
      ],
      "metadata": {
        "colab": {
          "base_uri": "https://localhost:8080/"
        },
        "id": "kh4R_mSvkxFx",
        "outputId": "e940f9d2-639b-4332-c616-4a83f77271fe"
      },
      "execution_count": null,
      "outputs": [
        {
          "output_type": "execute_result",
          "data": {
            "text/plain": [
              "DataFrame[a: bigint, b: double]"
            ]
          },
          "metadata": {},
          "execution_count": 6
        }
      ]
    },
    {
      "cell_type": "code",
      "source": [
        "df.show()"
      ],
      "metadata": {
        "colab": {
          "base_uri": "https://localhost:8080/"
        },
        "id": "uYPVSmiAleK_",
        "outputId": "08d04d17-7a8e-4bc3-80ee-8a08d281b710"
      },
      "execution_count": null,
      "outputs": [
        {
          "output_type": "stream",
          "name": "stdout",
          "text": [
            "+---+---+-------+----------+-------------------+\n",
            "|  a|  b|      c|         d|                  e|\n",
            "+---+---+-------+----------+-------------------+\n",
            "|  1|2.0|string1|2000-01-01|2000-01-01 12:00:00|\n",
            "|  2|3.0|string2|2000-02-01|2000-01-02 12:00:00|\n",
            "|  4|5.0|string3|2000-03-01|2000-01-03 12:00:00|\n",
            "+---+---+-------+----------+-------------------+\n",
            "\n"
          ]
        }
      ]
    },
    {
      "cell_type": "code",
      "source": [
        "df.show(1)"
      ],
      "metadata": {
        "colab": {
          "base_uri": "https://localhost:8080/"
        },
        "id": "K-V6vSDSl5BO",
        "outputId": "130a5917-752a-4d0f-abd3-7db4b1f1d1eb"
      },
      "execution_count": null,
      "outputs": [
        {
          "output_type": "stream",
          "name": "stdout",
          "text": [
            "+---+---+-------+----------+-------------------+\n",
            "|  a|  b|      c|         d|                  e|\n",
            "+---+---+-------+----------+-------------------+\n",
            "|  1|2.0|string1|2000-01-01|2000-01-01 12:00:00|\n",
            "+---+---+-------+----------+-------------------+\n",
            "only showing top 1 row\n",
            "\n"
          ]
        }
      ]
    },
    {
      "cell_type": "code",
      "source": [
        "df.show(1, vertical=True)"
      ],
      "metadata": {
        "colab": {
          "base_uri": "https://localhost:8080/"
        },
        "id": "sFcIdeCLmSg5",
        "outputId": "a9f55b83-0b49-4772-acfe-d0be6d05aa56"
      },
      "execution_count": null,
      "outputs": [
        {
          "output_type": "stream",
          "name": "stdout",
          "text": [
            "-RECORD 0------------------\n",
            " a   | 1                   \n",
            " b   | 2.0                 \n",
            " c   | string1             \n",
            " d   | 2000-01-01          \n",
            " e   | 2000-01-01 12:00:00 \n",
            "only showing top 1 row\n",
            "\n"
          ]
        }
      ]
    },
    {
      "cell_type": "code",
      "source": [
        "df.columns"
      ],
      "metadata": {
        "colab": {
          "base_uri": "https://localhost:8080/"
        },
        "id": "O2wpmRjXmaKV",
        "outputId": "06398fb5-1f04-4727-8d3b-deacfc57082c"
      },
      "execution_count": null,
      "outputs": [
        {
          "output_type": "execute_result",
          "data": {
            "text/plain": [
              "['a', 'b', 'c', 'd', 'e']"
            ]
          },
          "metadata": {},
          "execution_count": 11
        }
      ]
    },
    {
      "cell_type": "code",
      "source": [
        "df1.printSchema()"
      ],
      "metadata": {
        "colab": {
          "base_uri": "https://localhost:8080/"
        },
        "id": "U7A2HY_FlhLI",
        "outputId": "253f1e54-fad9-4207-ea20-78ab56a16de6"
      },
      "execution_count": null,
      "outputs": [
        {
          "output_type": "stream",
          "name": "stdout",
          "text": [
            "root\n",
            " |-- a: long (nullable = true)\n",
            " |-- b: double (nullable = true)\n",
            "\n"
          ]
        }
      ]
    },
    {
      "cell_type": "code",
      "source": [
        "df.select('a','b').show()"
      ],
      "metadata": {
        "colab": {
          "base_uri": "https://localhost:8080/"
        },
        "id": "chhalxq-l_hr",
        "outputId": "d3f5c131-09a7-473f-d1b6-e596288412f5"
      },
      "execution_count": null,
      "outputs": [
        {
          "output_type": "stream",
          "name": "stdout",
          "text": [
            "+---+---+\n",
            "|  a|  b|\n",
            "+---+---+\n",
            "|  1|2.0|\n",
            "|  2|3.0|\n",
            "|  4|5.0|\n",
            "+---+---+\n",
            "\n"
          ]
        }
      ]
    },
    {
      "cell_type": "code",
      "source": [
        "df.select('a','b').describe()"
      ],
      "metadata": {
        "colab": {
          "base_uri": "https://localhost:8080/"
        },
        "id": "MWj9szseoGQa",
        "outputId": "7b29ec5e-3eba-4cac-dee2-fb6a752dd5cf"
      },
      "execution_count": null,
      "outputs": [
        {
          "output_type": "execute_result",
          "data": {
            "text/plain": [
              "DataFrame[summary: string, a: string, b: string]"
            ]
          },
          "metadata": {},
          "execution_count": 16
        }
      ]
    },
    {
      "cell_type": "code",
      "source": [
        "df.select('a','b').describe().show()"
      ],
      "metadata": {
        "colab": {
          "base_uri": "https://localhost:8080/"
        },
        "id": "jWIc6AHxoMV5",
        "outputId": "332e0477-4130-4210-ee2f-0f876f8c3f71"
      },
      "execution_count": null,
      "outputs": [
        {
          "output_type": "stream",
          "name": "stdout",
          "text": [
            "+-------+------------------+------------------+\n",
            "|summary|                 a|                 b|\n",
            "+-------+------------------+------------------+\n",
            "|  count|                 3|                 3|\n",
            "|   mean|2.3333333333333335|3.3333333333333335|\n",
            "| stddev|1.5275252316519465|1.5275252316519465|\n",
            "|    min|                 1|               2.0|\n",
            "|    max|                 4|               5.0|\n",
            "+-------+------------------+------------------+\n",
            "\n"
          ]
        }
      ]
    },
    {
      "cell_type": "code",
      "source": [
        "from pyspark.sql.functions import upper\n",
        "df.select(df.c).show()"
      ],
      "metadata": {
        "colab": {
          "base_uri": "https://localhost:8080/"
        },
        "id": "YYMSpQysoWyN",
        "outputId": "afcb5332-6ca0-47f0-dffa-a39122affa69"
      },
      "execution_count": null,
      "outputs": [
        {
          "output_type": "stream",
          "name": "stdout",
          "text": [
            "+-------+\n",
            "|      c|\n",
            "+-------+\n",
            "|string1|\n",
            "|string2|\n",
            "|string3|\n",
            "+-------+\n",
            "\n"
          ]
        }
      ]
    },
    {
      "cell_type": "markdown",
      "source": [
        "**Assigning new column**"
      ],
      "metadata": {
        "id": "QFrtoQBtrAxY"
      }
    },
    {
      "cell_type": "code",
      "source": [
        "df.withColumn('uppercase',upper(df.c)).show()"
      ],
      "metadata": {
        "colab": {
          "base_uri": "https://localhost:8080/"
        },
        "id": "6hMh96TJril7",
        "outputId": "e3f4dce4-6179-4bd4-81e6-4c2157afe329"
      },
      "execution_count": null,
      "outputs": [
        {
          "output_type": "stream",
          "name": "stdout",
          "text": [
            "+---+---+-------+----------+-------------------+---------+\n",
            "|  a|  b|      c|         d|                  e|uppercase|\n",
            "+---+---+-------+----------+-------------------+---------+\n",
            "|  1|2.0|string1|2000-01-01|2000-01-01 12:00:00|  STRING1|\n",
            "|  2|3.0|string2|2000-02-01|2000-01-02 12:00:00|  STRING2|\n",
            "|  4|5.0|string3|2000-03-01|2000-01-03 12:00:00|  STRING3|\n",
            "+---+---+-------+----------+-------------------+---------+\n",
            "\n"
          ]
        }
      ]
    },
    {
      "cell_type": "markdown",
      "source": [
        "**Filter**"
      ],
      "metadata": {
        "id": "u23LkIQhsIVw"
      }
    },
    {
      "cell_type": "code",
      "source": [
        "df.filter(df.a==1).show()"
      ],
      "metadata": {
        "colab": {
          "base_uri": "https://localhost:8080/"
        },
        "id": "jwU26XCEsL42",
        "outputId": "9ed49bec-7d32-4d0f-94ec-cdf8055b0e6c"
      },
      "execution_count": null,
      "outputs": [
        {
          "output_type": "stream",
          "name": "stdout",
          "text": [
            "+---+---+-------+----------+-------------------+\n",
            "|  a|  b|      c|         d|                  e|\n",
            "+---+---+-------+----------+-------------------+\n",
            "|  1|2.0|string1|2000-01-01|2000-01-01 12:00:00|\n",
            "+---+---+-------+----------+-------------------+\n",
            "\n"
          ]
        }
      ]
    },
    {
      "cell_type": "code",
      "source": [
        "from pyspark.sql.functions import col, expr, lit\n",
        "df.filter(col('a')==1).show()"
      ],
      "metadata": {
        "colab": {
          "base_uri": "https://localhost:8080/"
        },
        "id": "QVYgAoDzsd4l",
        "outputId": "966414f2-7ba8-4c95-9f9c-27846d984257"
      },
      "execution_count": null,
      "outputs": [
        {
          "output_type": "stream",
          "name": "stdout",
          "text": [
            "+---+---+-------+----------+-------------------+\n",
            "|  a|  b|      c|         d|                  e|\n",
            "+---+---+-------+----------+-------------------+\n",
            "|  1|2.0|string1|2000-01-01|2000-01-01 12:00:00|\n",
            "+---+---+-------+----------+-------------------+\n",
            "\n"
          ]
        }
      ]
    },
    {
      "cell_type": "code",
      "source": [
        "df.select(col('b')+5).show()"
      ],
      "metadata": {
        "colab": {
          "base_uri": "https://localhost:8080/"
        },
        "id": "NAQRVkQBs5ky",
        "outputId": "78d39f8d-182c-4b97-ad2e-72ff4dbafd14"
      },
      "execution_count": null,
      "outputs": [
        {
          "output_type": "stream",
          "name": "stdout",
          "text": [
            "+-------+\n",
            "|(b + 5)|\n",
            "+-------+\n",
            "|    7.0|\n",
            "|    8.0|\n",
            "|   10.0|\n",
            "+-------+\n",
            "\n"
          ]
        }
      ]
    },
    {
      "cell_type": "code",
      "source": [
        "df.select('a', col('b'),df['c']).describe()"
      ],
      "metadata": {
        "colab": {
          "base_uri": "https://localhost:8080/"
        },
        "id": "kEma1ruvuxG8",
        "outputId": "427b3ecf-0dda-4317-9fb2-0573c8f1407a"
      },
      "execution_count": null,
      "outputs": [
        {
          "output_type": "execute_result",
          "data": {
            "text/plain": [
              "DataFrame[summary: string, a: string, b: string, c: string]"
            ]
          },
          "metadata": {},
          "execution_count": 15
        }
      ]
    },
    {
      "cell_type": "code",
      "source": [
        "df.select(expr('a as aa')).show()"
      ],
      "metadata": {
        "colab": {
          "base_uri": "https://localhost:8080/"
        },
        "id": "8RAEcuGru16y",
        "outputId": "f7e20905-1c4e-473f-9aa3-25dc465a61e8"
      },
      "execution_count": null,
      "outputs": [
        {
          "output_type": "stream",
          "name": "stdout",
          "text": [
            "+---+\n",
            "| aa|\n",
            "+---+\n",
            "|  1|\n",
            "|  2|\n",
            "|  4|\n",
            "+---+\n",
            "\n"
          ]
        }
      ]
    },
    {
      "cell_type": "code",
      "source": [
        "df.select(expr('concat(a,b)')).show()"
      ],
      "metadata": {
        "colab": {
          "base_uri": "https://localhost:8080/"
        },
        "id": "s_Ga7zB0vo5P",
        "outputId": "40afbb61-5b8e-4933-fb11-0b03ef33c388"
      },
      "execution_count": null,
      "outputs": [
        {
          "output_type": "stream",
          "name": "stdout",
          "text": [
            "+------------+\n",
            "|concat(a, b)|\n",
            "+------------+\n",
            "|        12.0|\n",
            "|        23.0|\n",
            "|        45.0|\n",
            "+------------+\n",
            "\n"
          ]
        }
      ]
    },
    {
      "cell_type": "code",
      "source": [
        "#Spark SQL\n",
        "spark.sql(\"\"\"select * from table\"\"\")"
      ],
      "metadata": {
        "id": "POZoLM0uv4wG"
      },
      "execution_count": null,
      "outputs": []
    },
    {
      "cell_type": "code",
      "source": [
        "df.select(col('a').alias('aaa'), 'b','c').show()"
      ],
      "metadata": {
        "colab": {
          "base_uri": "https://localhost:8080/"
        },
        "id": "xcLhTyD6wK1Q",
        "outputId": "5f86f155-2d03-417d-dd66-9334aba0e10d"
      },
      "execution_count": null,
      "outputs": [
        {
          "output_type": "stream",
          "name": "stdout",
          "text": [
            "+---+---+-------+\n",
            "|aaa|  b|      c|\n",
            "+---+---+-------+\n",
            "|  1|2.0|string1|\n",
            "|  2|3.0|string2|\n",
            "|  4|5.0|string3|\n",
            "+---+---+-------+\n",
            "\n"
          ]
        }
      ]
    },
    {
      "cell_type": "code",
      "source": [
        "df.filter(col('a')==1).show()"
      ],
      "metadata": {
        "colab": {
          "base_uri": "https://localhost:8080/"
        },
        "id": "aGAxswYrwfey",
        "outputId": "a091fc42-68ac-4b4b-851f-e6222821bd50"
      },
      "execution_count": null,
      "outputs": [
        {
          "output_type": "stream",
          "name": "stdout",
          "text": [
            "+---+---+-------+----------+-------------------+\n",
            "|  a|  b|      c|         d|                  e|\n",
            "+---+---+-------+----------+-------------------+\n",
            "|  1|2.0|string1|2000-01-01|2000-01-01 12:00:00|\n",
            "+---+---+-------+----------+-------------------+\n",
            "\n"
          ]
        }
      ]
    },
    {
      "cell_type": "code",
      "source": [
        "df.filter(df['a']==1).show()"
      ],
      "metadata": {
        "colab": {
          "base_uri": "https://localhost:8080/"
        },
        "id": "tkfuCibhwwJd",
        "outputId": "d3f9f460-46ea-4966-9069-2fb29298a47a"
      },
      "execution_count": null,
      "outputs": [
        {
          "output_type": "stream",
          "name": "stdout",
          "text": [
            "+---+---+-------+----------+-------------------+\n",
            "|  a|  b|      c|         d|                  e|\n",
            "+---+---+-------+----------+-------------------+\n",
            "|  1|2.0|string1|2000-01-01|2000-01-01 12:00:00|\n",
            "+---+---+-------+----------+-------------------+\n",
            "\n"
          ]
        }
      ]
    },
    {
      "cell_type": "code",
      "source": [
        "df.filter(col('b')>2).show()"
      ],
      "metadata": {
        "colab": {
          "base_uri": "https://localhost:8080/"
        },
        "id": "ZZNRfGVpw9Le",
        "outputId": "060c862c-2db1-4013-9afc-2065dd3dd27b"
      },
      "execution_count": null,
      "outputs": [
        {
          "output_type": "stream",
          "name": "stdout",
          "text": [
            "+---+---+-------+----------+-------------------+\n",
            "|  a|  b|      c|         d|                  e|\n",
            "+---+---+-------+----------+-------------------+\n",
            "|  2|3.0|string2|2000-02-01|2000-01-02 12:00:00|\n",
            "|  4|5.0|string3|2000-03-01|2000-01-03 12:00:00|\n",
            "+---+---+-------+----------+-------------------+\n",
            "\n"
          ]
        }
      ]
    },
    {
      "cell_type": "code",
      "source": [
        "df.filter((col('b')==3.0) | (df['b']>3.0)).show()"
      ],
      "metadata": {
        "colab": {
          "base_uri": "https://localhost:8080/"
        },
        "id": "hy3Qer0gxJ94",
        "outputId": "1a60bb8f-f1ed-419d-b43c-1c9350089cc3"
      },
      "execution_count": null,
      "outputs": [
        {
          "output_type": "stream",
          "name": "stdout",
          "text": [
            "+---+---+-------+----------+-------------------+\n",
            "|  a|  b|      c|         d|                  e|\n",
            "+---+---+-------+----------+-------------------+\n",
            "|  2|3.0|string2|2000-02-01|2000-01-02 12:00:00|\n",
            "|  4|5.0|string3|2000-03-01|2000-01-03 12:00:00|\n",
            "+---+---+-------+----------+-------------------+\n",
            "\n"
          ]
        }
      ]
    },
    {
      "cell_type": "code",
      "source": [
        "df.select('*', lit('####').alias('name')).show()"
      ],
      "metadata": {
        "colab": {
          "base_uri": "https://localhost:8080/"
        },
        "id": "UUDcN4dix_sz",
        "outputId": "98e48649-546b-4ee5-a7ab-c9a0c0269c01"
      },
      "execution_count": null,
      "outputs": [
        {
          "output_type": "stream",
          "name": "stdout",
          "text": [
            "+---+---+-------+----------+-------------------+----+\n",
            "|  a|  b|      c|         d|                  e|name|\n",
            "+---+---+-------+----------+-------------------+----+\n",
            "|  1|2.0|string1|2000-01-01|2000-01-01 12:00:00|####|\n",
            "|  2|3.0|string2|2000-02-01|2000-01-02 12:00:00|####|\n",
            "|  4|5.0|string3|2000-03-01|2000-01-03 12:00:00|####|\n",
            "+---+---+-------+----------+-------------------+----+\n",
            "\n"
          ]
        }
      ]
    },
    {
      "cell_type": "code",
      "source": [
        "df.withColumn((\"c\"),lit(\"ddd\")).show()"
      ],
      "metadata": {
        "colab": {
          "base_uri": "https://localhost:8080/"
        },
        "id": "B9hKiSl4yiqt",
        "outputId": "2dae9a14-71f1-49dd-d579-45356aab2f63"
      },
      "execution_count": null,
      "outputs": [
        {
          "output_type": "stream",
          "name": "stdout",
          "text": [
            "+---+---+---+----------+-------------------+\n",
            "|  a|  b|  c|         d|                  e|\n",
            "+---+---+---+----------+-------------------+\n",
            "|  1|2.0|ddd|2000-01-01|2000-01-01 12:00:00|\n",
            "|  2|3.0|ddd|2000-02-01|2000-01-02 12:00:00|\n",
            "|  4|5.0|ddd|2000-03-01|2000-01-03 12:00:00|\n",
            "+---+---+---+----------+-------------------+\n",
            "\n"
          ]
        }
      ]
    },
    {
      "cell_type": "code",
      "source": [
        "df.withColumnRenamed('a','cc').show()"
      ],
      "metadata": {
        "colab": {
          "base_uri": "https://localhost:8080/"
        },
        "id": "yZZE9y3E1wbZ",
        "outputId": "1e7f45f1-f239-4ca1-f85c-cc122064c3a6"
      },
      "execution_count": null,
      "outputs": [
        {
          "output_type": "stream",
          "name": "stdout",
          "text": [
            "+---+---+-------+----------+-------------------+\n",
            "| cc|  b|      c|         d|                  e|\n",
            "+---+---+-------+----------+-------------------+\n",
            "|  1|2.0|string1|2000-01-01|2000-01-01 12:00:00|\n",
            "|  2|3.0|string2|2000-02-01|2000-01-02 12:00:00|\n",
            "|  4|5.0|string3|2000-03-01|2000-01-03 12:00:00|\n",
            "+---+---+-------+----------+-------------------+\n",
            "\n"
          ]
        }
      ]
    },
    {
      "cell_type": "code",
      "source": [
        "df.withColumn('a',col('a')+5).show()"
      ],
      "metadata": {
        "colab": {
          "base_uri": "https://localhost:8080/"
        },
        "id": "TZVr7zn11U0k",
        "outputId": "4fb758fc-61af-46e5-d97e-0f1841664889"
      },
      "execution_count": null,
      "outputs": [
        {
          "output_type": "stream",
          "name": "stdout",
          "text": [
            "+---+---+-------+----------+-------------------+\n",
            "|  a|  b|      c|         d|                  e|\n",
            "+---+---+-------+----------+-------------------+\n",
            "|  6|2.0|string1|2000-01-01|2000-01-01 12:00:00|\n",
            "|  7|3.0|string2|2000-02-01|2000-01-02 12:00:00|\n",
            "|  9|5.0|string3|2000-03-01|2000-01-03 12:00:00|\n",
            "+---+---+-------+----------+-------------------+\n",
            "\n"
          ]
        }
      ]
    },
    {
      "cell_type": "code",
      "source": [
        "df.withColumn('c',lit('singh')).show()"
      ],
      "metadata": {
        "colab": {
          "base_uri": "https://localhost:8080/"
        },
        "id": "WIX1HiKM2Di-",
        "outputId": "ce9d5ff9-b62d-43f2-c618-14f9e03d82ef"
      },
      "execution_count": null,
      "outputs": [
        {
          "output_type": "stream",
          "name": "stdout",
          "text": [
            "+---+---+-----+----------+-------------------+\n",
            "|  a|  b|    c|         d|                  e|\n",
            "+---+---+-----+----------+-------------------+\n",
            "|  1|2.0|singh|2000-01-01|2000-01-01 12:00:00|\n",
            "|  2|3.0|singh|2000-02-01|2000-01-02 12:00:00|\n",
            "|  4|5.0|singh|2000-03-01|2000-01-03 12:00:00|\n",
            "+---+---+-----+----------+-------------------+\n",
            "\n"
          ]
        }
      ]
    },
    {
      "cell_type": "markdown",
      "source": [
        "**Casting DataType**"
      ],
      "metadata": {
        "id": "W4wlKnof2RKu"
      }
    },
    {
      "cell_type": "code",
      "source": [
        "df.describe()"
      ],
      "metadata": {
        "colab": {
          "base_uri": "https://localhost:8080/"
        },
        "id": "F0zla6OW2ZUX",
        "outputId": "37560d27-a97c-4027-dfbf-1d11cf64ac3a"
      },
      "execution_count": null,
      "outputs": [
        {
          "output_type": "execute_result",
          "data": {
            "text/plain": [
              "DataFrame[summary: string, a: string, b: string, c: string]"
            ]
          },
          "metadata": {},
          "execution_count": 49
        }
      ]
    },
    {
      "cell_type": "code",
      "source": [
        "df.printSchema()"
      ],
      "metadata": {
        "colab": {
          "base_uri": "https://localhost:8080/"
        },
        "id": "Xh3dp8vT3CLe",
        "outputId": "6d4efb60-5bf9-4b49-b36e-a1c89e0fcd45"
      },
      "execution_count": null,
      "outputs": [
        {
          "output_type": "stream",
          "name": "stdout",
          "text": [
            "root\n",
            " |-- a: long (nullable = true)\n",
            " |-- b: double (nullable = true)\n",
            " |-- c: string (nullable = true)\n",
            " |-- d: date (nullable = true)\n",
            " |-- e: timestamp (nullable = true)\n",
            "\n"
          ]
        }
      ]
    },
    {
      "cell_type": "code",
      "source": [
        "df.withColumn('a',col('a').cast('string')).printSchema()"
      ],
      "metadata": {
        "colab": {
          "base_uri": "https://localhost:8080/"
        },
        "id": "aRI8N3PB2kGt",
        "outputId": "9005808c-ba92-4a7a-93b4-c4e60c012f71"
      },
      "execution_count": null,
      "outputs": [
        {
          "output_type": "stream",
          "name": "stdout",
          "text": [
            "root\n",
            " |-- a: string (nullable = true)\n",
            " |-- b: double (nullable = true)\n",
            " |-- c: string (nullable = true)\n",
            " |-- d: date (nullable = true)\n",
            " |-- e: timestamp (nullable = true)\n",
            "\n"
          ]
        }
      ]
    },
    {
      "cell_type": "markdown",
      "source": [
        "**Remove Columns**"
      ],
      "metadata": {
        "id": "e97ZyeYe3MeV"
      }
    },
    {
      "cell_type": "code",
      "source": [
        "df.show()"
      ],
      "metadata": {
        "colab": {
          "base_uri": "https://localhost:8080/"
        },
        "id": "EFV7B62N3hmk",
        "outputId": "f2acf9ac-382f-4a1e-94f1-77f7e3ce1bea"
      },
      "execution_count": null,
      "outputs": [
        {
          "output_type": "stream",
          "name": "stdout",
          "text": [
            "+---+---+-------+----------+-------------------+\n",
            "|  a|  b|      c|         d|                  e|\n",
            "+---+---+-------+----------+-------------------+\n",
            "|  1|2.0|string1|2000-01-01|2000-01-01 12:00:00|\n",
            "|  2|3.0|string2|2000-02-01|2000-01-02 12:00:00|\n",
            "|  4|5.0|string3|2000-03-01|2000-01-03 12:00:00|\n",
            "+---+---+-------+----------+-------------------+\n",
            "\n"
          ]
        }
      ]
    },
    {
      "cell_type": "code",
      "source": [
        "df.drop('c').show()"
      ],
      "metadata": {
        "colab": {
          "base_uri": "https://localhost:8080/"
        },
        "id": "B0ySUWWn3Tw6",
        "outputId": "f4a46733-b68d-463e-8f4f-38c051ea1bfc"
      },
      "execution_count": null,
      "outputs": [
        {
          "output_type": "stream",
          "name": "stdout",
          "text": [
            "+---+---+----------+-------------------+\n",
            "|  a|  b|         d|                  e|\n",
            "+---+---+----------+-------------------+\n",
            "|  1|2.0|2000-01-01|2000-01-01 12:00:00|\n",
            "|  2|3.0|2000-02-01|2000-01-02 12:00:00|\n",
            "|  4|5.0|2000-03-01|2000-01-03 12:00:00|\n",
            "+---+---+----------+-------------------+\n",
            "\n"
          ]
        }
      ]
    },
    {
      "cell_type": "code",
      "source": [
        "from pyspark.sql.types import StructType, StructField, StringType, IntegerType\n",
        "\n",
        "data = [\n",
        "    ('1','qwe','30','l','8'),\n",
        "    ('2','asd','23','l','9'),\n",
        "    ('3','aws','24','k','67'),\n",
        "    ('4','zxc','21','o','9')\n",
        "]\n",
        "schema = StructType([\n",
        "    StructField('id',StringType(),True),\n",
        "    StructField('name',StringType(),True),\n",
        "    StructField('age',StringType(), True),\n",
        "    StructField('Lname',StringType(),True),\n",
        "    StructField('jage',StringType(), True)\n",
        "])\n",
        "\n",
        "df2 = spark.createDataFrame(data, schema)\n",
        "df2.show()"
      ],
      "metadata": {
        "colab": {
          "base_uri": "https://localhost:8080/"
        },
        "id": "jNQB7FMO4WoL",
        "outputId": "d520da8e-fef1-4645-96c1-ed882c6dbd09"
      },
      "execution_count": null,
      "outputs": [
        {
          "output_type": "stream",
          "name": "stdout",
          "text": [
            "+---+----+---+-----+----+\n",
            "| id|name|age|Lname|jage|\n",
            "+---+----+---+-----+----+\n",
            "|  1| qwe| 30|    l|   8|\n",
            "|  2| asd| 23|    l|   9|\n",
            "|  3| aws| 24|    k|  67|\n",
            "|  4| zxc| 21|    o|   9|\n",
            "+---+----+---+-----+----+\n",
            "\n"
          ]
        }
      ]
    },
    {
      "cell_type": "code",
      "source": [
        "df2.withColumns({'id':df2.id.cast('int'), 'age':df2.age.cast('int')}).printSchema()"
      ],
      "metadata": {
        "colab": {
          "base_uri": "https://localhost:8080/"
        },
        "id": "KV_JfLdm6G5J",
        "outputId": "d40186eb-5041-4c16-c0d5-39087a6d0f16"
      },
      "execution_count": null,
      "outputs": [
        {
          "output_type": "stream",
          "name": "stdout",
          "text": [
            "root\n",
            " |-- id: integer (nullable = true)\n",
            " |-- name: string (nullable = true)\n",
            " |-- age: integer (nullable = true)\n",
            "\n"
          ]
        }
      ]
    },
    {
      "cell_type": "markdown",
      "source": [
        "**Count Rows**"
      ],
      "metadata": {
        "id": "zbdS1sZy8Me1"
      }
    },
    {
      "cell_type": "code",
      "source": [
        "df2.count()"
      ],
      "metadata": {
        "colab": {
          "base_uri": "https://localhost:8080/"
        },
        "id": "jdmQjY0p8UIj",
        "outputId": "3b301375-c9e8-48ce-eaab-5234e15d5dea"
      },
      "execution_count": null,
      "outputs": [
        {
          "output_type": "execute_result",
          "data": {
            "text/plain": [
              "4"
            ]
          },
          "metadata": {},
          "execution_count": 65
        }
      ]
    },
    {
      "cell_type": "markdown",
      "source": [
        "Union- both df needs to have same nu. of columns. just arrages both table one below other without seeing name and datatype."
      ],
      "metadata": {
        "id": "Tzye0w9o-KbY"
      }
    },
    {
      "cell_type": "code",
      "source": [
        "df.union(df2).show()"
      ],
      "metadata": {
        "colab": {
          "base_uri": "https://localhost:8080/"
        },
        "id": "mxOhsO5E8WhR",
        "outputId": "09159532-556a-411c-d939-b433ebbb3111"
      },
      "execution_count": null,
      "outputs": [
        {
          "output_type": "stream",
          "name": "stdout",
          "text": [
            "+---+---+-------+----------+-------------------+\n",
            "|  a|  b|      c|         d|                  e|\n",
            "+---+---+-------+----------+-------------------+\n",
            "|  1|2.0|string1|2000-01-01|2000-01-01 12:00:00|\n",
            "|  2|3.0|string2|2000-02-01|2000-01-02 12:00:00|\n",
            "|  4|5.0|string3|2000-03-01|2000-01-03 12:00:00|\n",
            "|  1|qwe|     30|         l|                  8|\n",
            "|  2|asd|     23|         l|                  9|\n",
            "|  3|aws|     24|         k|                 67|\n",
            "|  4|zxc|     21|         o|                  9|\n",
            "+---+---+-------+----------+-------------------+\n",
            "\n"
          ]
        }
      ]
    },
    {
      "cell_type": "code",
      "source": [
        "df.unionByName(df2).show()"
      ],
      "metadata": {
        "colab": {
          "base_uri": "https://localhost:8080/",
          "height": 339
        },
        "id": "kyj5ynFd8xDc",
        "outputId": "0b8b2002-cf58-40de-f9c4-f3e951355050"
      },
      "execution_count": null,
      "outputs": [
        {
          "output_type": "error",
          "ename": "AnalysisException",
          "evalue": "Cannot resolve column name \"a\" among (id, name, age, Lname, jage).",
          "traceback": [
            "\u001b[0;31m---------------------------------------------------------------------------\u001b[0m",
            "\u001b[0;31mAnalysisException\u001b[0m                         Traceback (most recent call last)",
            "\u001b[0;32m<ipython-input-69-28e4782d7e71>\u001b[0m in \u001b[0;36m<cell line: 0>\u001b[0;34m()\u001b[0m\n\u001b[0;32m----> 1\u001b[0;31m \u001b[0mdf\u001b[0m\u001b[0;34m.\u001b[0m\u001b[0munionByName\u001b[0m\u001b[0;34m(\u001b[0m\u001b[0mdf2\u001b[0m\u001b[0;34m)\u001b[0m\u001b[0;34m.\u001b[0m\u001b[0mshow\u001b[0m\u001b[0;34m(\u001b[0m\u001b[0;34m)\u001b[0m\u001b[0;34m\u001b[0m\u001b[0;34m\u001b[0m\u001b[0m\n\u001b[0m",
            "\u001b[0;32m/usr/local/lib/python3.11/dist-packages/pyspark/sql/dataframe.py\u001b[0m in \u001b[0;36munionByName\u001b[0;34m(self, other, allowMissingColumns)\u001b[0m\n\u001b[1;32m   4041\u001b[0m         \u001b[0;34m+\u001b[0m\u001b[0;34m-\u001b[0m\u001b[0;34m-\u001b[0m\u001b[0;34m-\u001b[0m\u001b[0;34m-\u001b[0m\u001b[0;34m+\u001b[0m\u001b[0;34m-\u001b[0m\u001b[0;34m-\u001b[0m\u001b[0;34m-\u001b[0m\u001b[0;34m-\u001b[0m\u001b[0;34m+\u001b[0m\u001b[0;34m-\u001b[0m\u001b[0;34m-\u001b[0m\u001b[0;34m-\u001b[0m\u001b[0;34m-\u001b[0m\u001b[0;34m+\u001b[0m\u001b[0;34m-\u001b[0m\u001b[0;34m-\u001b[0m\u001b[0;34m-\u001b[0m\u001b[0;34m-\u001b[0m\u001b[0;34m+\u001b[0m\u001b[0;34m-\u001b[0m\u001b[0;34m-\u001b[0m\u001b[0;34m-\u001b[0m\u001b[0;34m-\u001b[0m\u001b[0;34m+\u001b[0m\u001b[0;34m-\u001b[0m\u001b[0;34m-\u001b[0m\u001b[0;34m-\u001b[0m\u001b[0;34m-\u001b[0m\u001b[0;34m+\u001b[0m\u001b[0;34m\u001b[0m\u001b[0;34m\u001b[0m\u001b[0m\n\u001b[1;32m   4042\u001b[0m         \"\"\"\n\u001b[0;32m-> 4043\u001b[0;31m         \u001b[0;32mreturn\u001b[0m \u001b[0mDataFrame\u001b[0m\u001b[0;34m(\u001b[0m\u001b[0mself\u001b[0m\u001b[0;34m.\u001b[0m\u001b[0m_jdf\u001b[0m\u001b[0;34m.\u001b[0m\u001b[0munionByName\u001b[0m\u001b[0;34m(\u001b[0m\u001b[0mother\u001b[0m\u001b[0;34m.\u001b[0m\u001b[0m_jdf\u001b[0m\u001b[0;34m,\u001b[0m \u001b[0mallowMissingColumns\u001b[0m\u001b[0;34m)\u001b[0m\u001b[0;34m,\u001b[0m \u001b[0mself\u001b[0m\u001b[0;34m.\u001b[0m\u001b[0msparkSession\u001b[0m\u001b[0;34m)\u001b[0m\u001b[0;34m\u001b[0m\u001b[0;34m\u001b[0m\u001b[0m\n\u001b[0m\u001b[1;32m   4044\u001b[0m \u001b[0;34m\u001b[0m\u001b[0m\n\u001b[1;32m   4045\u001b[0m     \u001b[0;32mdef\u001b[0m \u001b[0mintersect\u001b[0m\u001b[0;34m(\u001b[0m\u001b[0mself\u001b[0m\u001b[0;34m,\u001b[0m \u001b[0mother\u001b[0m\u001b[0;34m:\u001b[0m \u001b[0;34m\"DataFrame\"\u001b[0m\u001b[0;34m)\u001b[0m \u001b[0;34m->\u001b[0m \u001b[0;34m\"DataFrame\"\u001b[0m\u001b[0;34m:\u001b[0m\u001b[0;34m\u001b[0m\u001b[0;34m\u001b[0m\u001b[0m\n",
            "\u001b[0;32m/usr/local/lib/python3.11/dist-packages/py4j/java_gateway.py\u001b[0m in \u001b[0;36m__call__\u001b[0;34m(self, *args)\u001b[0m\n\u001b[1;32m   1320\u001b[0m \u001b[0;34m\u001b[0m\u001b[0m\n\u001b[1;32m   1321\u001b[0m         \u001b[0manswer\u001b[0m \u001b[0;34m=\u001b[0m \u001b[0mself\u001b[0m\u001b[0;34m.\u001b[0m\u001b[0mgateway_client\u001b[0m\u001b[0;34m.\u001b[0m\u001b[0msend_command\u001b[0m\u001b[0;34m(\u001b[0m\u001b[0mcommand\u001b[0m\u001b[0;34m)\u001b[0m\u001b[0;34m\u001b[0m\u001b[0;34m\u001b[0m\u001b[0m\n\u001b[0;32m-> 1322\u001b[0;31m         return_value = get_return_value(\n\u001b[0m\u001b[1;32m   1323\u001b[0m             answer, self.gateway_client, self.target_id, self.name)\n\u001b[1;32m   1324\u001b[0m \u001b[0;34m\u001b[0m\u001b[0m\n",
            "\u001b[0;32m/usr/local/lib/python3.11/dist-packages/pyspark/errors/exceptions/captured.py\u001b[0m in \u001b[0;36mdeco\u001b[0;34m(*a, **kw)\u001b[0m\n\u001b[1;32m    183\u001b[0m                 \u001b[0;31m# Hide where the exception came from that shows a non-Pythonic\u001b[0m\u001b[0;34m\u001b[0m\u001b[0;34m\u001b[0m\u001b[0m\n\u001b[1;32m    184\u001b[0m                 \u001b[0;31m# JVM exception message.\u001b[0m\u001b[0;34m\u001b[0m\u001b[0;34m\u001b[0m\u001b[0m\n\u001b[0;32m--> 185\u001b[0;31m                 \u001b[0;32mraise\u001b[0m \u001b[0mconverted\u001b[0m \u001b[0;32mfrom\u001b[0m \u001b[0;32mNone\u001b[0m\u001b[0;34m\u001b[0m\u001b[0;34m\u001b[0m\u001b[0m\n\u001b[0m\u001b[1;32m    186\u001b[0m             \u001b[0;32melse\u001b[0m\u001b[0;34m:\u001b[0m\u001b[0;34m\u001b[0m\u001b[0;34m\u001b[0m\u001b[0m\n\u001b[1;32m    187\u001b[0m                 \u001b[0;32mraise\u001b[0m\u001b[0;34m\u001b[0m\u001b[0;34m\u001b[0m\u001b[0m\n",
            "\u001b[0;31mAnalysisException\u001b[0m: Cannot resolve column name \"a\" among (id, name, age, Lname, jage)."
          ]
        }
      ]
    },
    {
      "cell_type": "markdown",
      "source": [
        "**Selecting particular columns when both df has different no. of columns**"
      ],
      "metadata": {
        "id": "YxxccNQh_I1_"
      }
    },
    {
      "cell_type": "code",
      "source": [
        "df.select('a','b').union(df2)"
      ],
      "metadata": {
        "id": "9nCYeTpj-8PB"
      },
      "execution_count": null,
      "outputs": []
    },
    {
      "cell_type": "code",
      "source": [
        "from pyspark.sql.functions import when\n",
        "df2.withColumn('Eligible',when(col('age')>21,\"Yes\")\n",
        "                          .when(col('age')<=21,\"No\")\n",
        "                          .otherwise(\"Novalue\")).show()"
      ],
      "metadata": {
        "colab": {
          "base_uri": "https://localhost:8080/"
        },
        "id": "A_s8uq-L_XAM",
        "outputId": "b6a4db28-0868-45ec-bc27-06637ca5b527"
      },
      "execution_count": null,
      "outputs": [
        {
          "output_type": "stream",
          "name": "stdout",
          "text": [
            "+---+----+---+-----+----+--------+\n",
            "| id|name|age|Lname|jage|Eligible|\n",
            "+---+----+---+-----+----+--------+\n",
            "|  1| qwe| 30|    l|   8|     Yes|\n",
            "|  2| asd| 23|    l|   9|     Yes|\n",
            "|  3| aws| 24|    k|  67|     Yes|\n",
            "|  4| zxc| 21|    o|   9|      No|\n",
            "+---+----+---+-----+----+--------+\n",
            "\n"
          ]
        }
      ]
    },
    {
      "cell_type": "markdown",
      "source": [
        "First fix null in age\n"
      ],
      "metadata": {
        "id": "-_r_AZ_7FJwJ"
      }
    },
    {
      "cell_type": "code",
      "source": [
        "df2.withColumn('Newage',when(col('age').isNull(),lit(19))\n",
        "                        .otherwise(col('age'))).show()"
      ],
      "metadata": {
        "colab": {
          "base_uri": "https://localhost:8080/"
        },
        "id": "ZZXcJHkHFBcd",
        "outputId": "37de3ba1-2a31-4ed9-ffc1-0dca21faa616"
      },
      "execution_count": null,
      "outputs": [
        {
          "output_type": "stream",
          "name": "stdout",
          "text": [
            "+---+----+---+-----+----+------+\n",
            "| id|name|age|Lname|jage|Newage|\n",
            "+---+----+---+-----+----+------+\n",
            "|  1| qwe| 30|    l|   8|    30|\n",
            "|  2| asd| 23|    l|   9|    23|\n",
            "|  3| aws| 24|    k|  67|    24|\n",
            "|  4| zxc| 21|    o|   9|    21|\n",
            "+---+----+---+-----+----+------+\n",
            "\n"
          ]
        }
      ]
    },
    {
      "cell_type": "code",
      "source": [
        "df2.createOrReplaceTempView('table2')"
      ],
      "metadata": {
        "id": "YjsLG7FpESjQ"
      },
      "execution_count": null,
      "outputs": []
    },
    {
      "cell_type": "code",
      "source": [
        "spark.sql(\"\"\"\n",
        "select * , case when age>21 then 'Major'\n",
        "                when age<=21 then 'Minor'\n",
        "                else 'Novalue'\n",
        "                end\n",
        "                as Eligible\n",
        "from table2\n",
        "\"\"\").show()"
      ],
      "metadata": {
        "colab": {
          "base_uri": "https://localhost:8080/"
        },
        "id": "2DwkX1wHDcA3",
        "outputId": "0d923bb7-fc27-464c-f259-35702509415e"
      },
      "execution_count": null,
      "outputs": [
        {
          "output_type": "stream",
          "name": "stdout",
          "text": [
            "+---+----+---+-----+----+--------+\n",
            "| id|name|age|Lname|jage|Eligible|\n",
            "+---+----+---+-----+----+--------+\n",
            "|  1| qwe| 30|    l|   8|   Major|\n",
            "|  2| asd| 23|    l|   9|   Major|\n",
            "|  3| aws| 24|    k|  67|   Major|\n",
            "|  4| zxc| 21|    o|   9|   Minor|\n",
            "+---+----+---+-----+----+--------+\n",
            "\n"
          ]
        }
      ]
    },
    {
      "cell_type": "code",
      "source": [
        "df2.distinct().show()"
      ],
      "metadata": {
        "colab": {
          "base_uri": "https://localhost:8080/"
        },
        "id": "2BQUwnzdGIVY",
        "outputId": "20dc031d-0efe-46b5-d0bc-0cbb5d7a50bb"
      },
      "execution_count": null,
      "outputs": [
        {
          "output_type": "stream",
          "name": "stdout",
          "text": [
            "+---+----+---+-----+----+\n",
            "| id|name|age|Lname|jage|\n",
            "+---+----+---+-----+----+\n",
            "|  1| qwe| 30|    l|   8|\n",
            "|  2| asd| 23|    l|   9|\n",
            "|  4| zxc| 21|    o|   9|\n",
            "|  3| aws| 24|    k|  67|\n",
            "+---+----+---+-----+----+\n",
            "\n"
          ]
        }
      ]
    },
    {
      "cell_type": "code",
      "source": [
        "df2.distinct().count()"
      ],
      "metadata": {
        "colab": {
          "base_uri": "https://localhost:8080/"
        },
        "id": "51hHGuV5GUsb",
        "outputId": "7b046d4a-974c-434d-dd38-b4e598d7b24c"
      },
      "execution_count": null,
      "outputs": [
        {
          "output_type": "execute_result",
          "data": {
            "text/plain": [
              "4"
            ]
          },
          "metadata": {},
          "execution_count": 83
        }
      ]
    },
    {
      "cell_type": "markdown",
      "source": [
        "count - distinct count = no. of duplicate rows"
      ],
      "metadata": {
        "id": "WLqZBYr7GjT9"
      }
    },
    {
      "cell_type": "markdown",
      "source": [
        "disticnt based on columns"
      ],
      "metadata": {
        "id": "UXrjThasG137"
      }
    },
    {
      "cell_type": "code",
      "source": [
        "df2.select('name','age').distinct().show()"
      ],
      "metadata": {
        "colab": {
          "base_uri": "https://localhost:8080/"
        },
        "id": "KfrTW25BGqy0",
        "outputId": "87b4c1c2-2077-44f7-946d-faff56fcd7d5"
      },
      "execution_count": null,
      "outputs": [
        {
          "output_type": "stream",
          "name": "stdout",
          "text": [
            "+----+---+\n",
            "|name|age|\n",
            "+----+---+\n",
            "| asd| 23|\n",
            "| qwe| 30|\n",
            "| zxc| 21|\n",
            "| aws| 24|\n",
            "+----+---+\n",
            "\n"
          ]
        }
      ]
    },
    {
      "cell_type": "code",
      "source": [
        "df2.drop_duplicates(['name','age']).show()"
      ],
      "metadata": {
        "colab": {
          "base_uri": "https://localhost:8080/"
        },
        "id": "d4lQzK3-HKQz",
        "outputId": "596b08a3-6d4f-4f2d-a7af-7eabbc01a3a2"
      },
      "execution_count": null,
      "outputs": [
        {
          "output_type": "stream",
          "name": "stdout",
          "text": [
            "+---+----+---+-----+----+\n",
            "| id|name|age|Lname|jage|\n",
            "+---+----+---+-----+----+\n",
            "|  2| asd| 23|    l|   9|\n",
            "|  3| aws| 24|    k|  67|\n",
            "|  1| qwe| 30|    l|   8|\n",
            "|  4| zxc| 21|    o|   9|\n",
            "+---+----+---+-----+----+\n",
            "\n"
          ]
        }
      ]
    },
    {
      "cell_type": "code",
      "source": [
        "df2.sort('age').show()"
      ],
      "metadata": {
        "colab": {
          "base_uri": "https://localhost:8080/"
        },
        "id": "O5k89qzcHp-P",
        "outputId": "950c1c82-65d7-478e-a7ea-3a3b0b0c2be8"
      },
      "execution_count": null,
      "outputs": [
        {
          "output_type": "stream",
          "name": "stdout",
          "text": [
            "+---+----+---+-----+----+\n",
            "| id|name|age|Lname|jage|\n",
            "+---+----+---+-----+----+\n",
            "|  4| zxc| 21|    o|   9|\n",
            "|  2| asd| 23|    l|   9|\n",
            "|  3| aws| 24|    k|  67|\n",
            "|  1| qwe| 30|    l|   8|\n",
            "+---+----+---+-----+----+\n",
            "\n"
          ]
        }
      ]
    },
    {
      "cell_type": "code",
      "source": [
        "from pyspark.sql.functions import *\n",
        "from pyspark.sql.types import *\n",
        "df2.sort(col('age').desc()).show()"
      ],
      "metadata": {
        "colab": {
          "base_uri": "https://localhost:8080/"
        },
        "id": "t9WbYdqrHym5",
        "outputId": "3a229fec-94a1-44b9-8ff7-c561a27ef224"
      },
      "execution_count": null,
      "outputs": [
        {
          "output_type": "stream",
          "name": "stdout",
          "text": [
            "+---+----+---+-----+----+\n",
            "| id|name|age|Lname|jage|\n",
            "+---+----+---+-----+----+\n",
            "|  1| qwe| 30|    l|   8|\n",
            "|  3| aws| 24|    k|  67|\n",
            "|  2| asd| 23|    l|   9|\n",
            "|  4| zxc| 21|    o|   9|\n",
            "+---+----+---+-----+----+\n",
            "\n"
          ]
        }
      ]
    },
    {
      "cell_type": "markdown",
      "source": [
        "**Select names when age != 23**"
      ],
      "metadata": {
        "id": "Lfn3slbxJi9G"
      }
    },
    {
      "cell_type": "code",
      "source": [
        "df2.select('name').filter((col('age')!=23)|(col('age').isNull())).show()"
      ],
      "metadata": {
        "colab": {
          "base_uri": "https://localhost:8080/"
        },
        "id": "tUARA4WEJhw5",
        "outputId": "0ef6ff3e-edfd-47fa-83ec-11380b1e1176"
      },
      "execution_count": null,
      "outputs": [
        {
          "output_type": "stream",
          "name": "stdout",
          "text": [
            "+----+\n",
            "|name|\n",
            "+----+\n",
            "| qwe|\n",
            "| aws|\n",
            "| zxc|\n",
            "+----+\n",
            "\n"
          ]
        }
      ]
    },
    {
      "cell_type": "code",
      "source": [
        "spark.sql(\"\"\"\n",
        "select name from table2 where age!=23 or age is null\n",
        "\"\"\").show()"
      ],
      "metadata": {
        "colab": {
          "base_uri": "https://localhost:8080/"
        },
        "id": "R2JnThNVKxX4",
        "outputId": "a49679cf-14ea-460d-8954-4d117c082af9"
      },
      "execution_count": null,
      "outputs": [
        {
          "output_type": "stream",
          "name": "stdout",
          "text": [
            "+----+\n",
            "|name|\n",
            "+----+\n",
            "| qwe|\n",
            "| aws|\n",
            "| zxc|\n",
            "+----+\n",
            "\n"
          ]
        }
      ]
    },
    {
      "cell_type": "markdown",
      "source": [
        "**Aggregations: Min, Max, Avg**"
      ],
      "metadata": {
        "id": "Zy7RPHAHLW9t"
      }
    },
    {
      "cell_type": "code",
      "source": [
        "df2.select(count('name')).show()"
      ],
      "metadata": {
        "colab": {
          "base_uri": "https://localhost:8080/"
        },
        "id": "NcZW9nIkLTTC",
        "outputId": "b28fdd32-0a2c-4623-8ccb-c38c20855ec9"
      },
      "execution_count": null,
      "outputs": [
        {
          "output_type": "stream",
          "name": "stdout",
          "text": [
            "+-----------+\n",
            "|count(name)|\n",
            "+-----------+\n",
            "|          4|\n",
            "+-----------+\n",
            "\n"
          ]
        }
      ]
    },
    {
      "cell_type": "code",
      "source": [
        "df2.select(sum('age'),max('age'),min('age').alias('min_age')).show()"
      ],
      "metadata": {
        "colab": {
          "base_uri": "https://localhost:8080/"
        },
        "id": "DRttNpYdM08Q",
        "outputId": "d2715185-7d64-4fd9-a4d8-c5f5e3209a81"
      },
      "execution_count": null,
      "outputs": [
        {
          "output_type": "stream",
          "name": "stdout",
          "text": [
            "+--------+--------+-------+\n",
            "|sum(age)|max(age)|min_age|\n",
            "+--------+--------+-------+\n",
            "|    98.0|      30|     21|\n",
            "+--------+--------+-------+\n",
            "\n"
          ]
        }
      ]
    },
    {
      "cell_type": "code",
      "source": [
        "df2.select(count(\"*\")).show()"
      ],
      "metadata": {
        "colab": {
          "base_uri": "https://localhost:8080/"
        },
        "id": "3m5CtlmkNPU8",
        "outputId": "bdf4e31e-0ad7-4e4c-bda4-6dbb83664b19"
      },
      "execution_count": null,
      "outputs": [
        {
          "output_type": "stream",
          "name": "stdout",
          "text": [
            "+--------+\n",
            "|count(1)|\n",
            "+--------+\n",
            "|       4|\n",
            "+--------+\n",
            "\n"
          ]
        }
      ]
    },
    {
      "cell_type": "code",
      "source": [
        "df2.select(avg('age').cast('int').alias('avg')).show()"
      ],
      "metadata": {
        "colab": {
          "base_uri": "https://localhost:8080/"
        },
        "id": "Nei3a_E8NYh0",
        "outputId": "6b4f4d47-3f30-4fa2-dc29-f34655a7e627"
      },
      "execution_count": null,
      "outputs": [
        {
          "output_type": "stream",
          "name": "stdout",
          "text": [
            "+---+\n",
            "|avg|\n",
            "+---+\n",
            "| 24|\n",
            "+---+\n",
            "\n"
          ]
        }
      ]
    },
    {
      "cell_type": "markdown",
      "source": [
        "Calculate total age"
      ],
      "metadata": {
        "id": "-xwzSkcKNyyd"
      }
    },
    {
      "cell_type": "code",
      "source": [
        "df2.select(sum('age')).show()"
      ],
      "metadata": {
        "colab": {
          "base_uri": "https://localhost:8080/"
        },
        "id": "3PIcc_BfNpt6",
        "outputId": "e9828889-2ac3-48b7-ae3b-a55bf335e34a"
      },
      "execution_count": null,
      "outputs": [
        {
          "output_type": "stream",
          "name": "stdout",
          "text": [
            "+--------+\n",
            "|sum(age)|\n",
            "+--------+\n",
            "|    98.0|\n",
            "+--------+\n",
            "\n"
          ]
        }
      ]
    },
    {
      "cell_type": "code",
      "source": [
        "df2.groupBy('age').agg(sum('jage')).show()"
      ],
      "metadata": {
        "colab": {
          "base_uri": "https://localhost:8080/"
        },
        "id": "Gf-Gg81dN_ud",
        "outputId": "16f9b70f-9cba-4cea-836e-36176b1e99c5"
      },
      "execution_count": null,
      "outputs": [
        {
          "output_type": "stream",
          "name": "stdout",
          "text": [
            "+---+---------+\n",
            "|age|sum(jage)|\n",
            "+---+---------+\n",
            "| 30|      8.0|\n",
            "| 23|      9.0|\n",
            "| 24|     67.0|\n",
            "| 21|      9.0|\n",
            "+---+---------+\n",
            "\n"
          ]
        }
      ]
    },
    {
      "cell_type": "markdown",
      "source": [
        "**Joins in Pyspark : df.join(dataframe, join expression()()()for multiple conditions,type of join)**"
      ],
      "metadata": {
        "id": "kACGzY8OOtEe"
      }
    },
    {
      "cell_type": "code",
      "source": [
        "df2.join(df2,df2['age']==df2['age'],\"inner\").show()"
      ],
      "metadata": {
        "colab": {
          "base_uri": "https://localhost:8080/"
        },
        "id": "309SCMGAOwxB",
        "outputId": "11e3250a-2e66-494d-86e7-a5e48d562bd1"
      },
      "execution_count": null,
      "outputs": [
        {
          "output_type": "stream",
          "name": "stdout",
          "text": [
            "+---+----+---+-----+----+---+----+---+-----+----+\n",
            "| id|name|age|Lname|jage| id|name|age|Lname|jage|\n",
            "+---+----+---+-----+----+---+----+---+-----+----+\n",
            "|  4| zxc| 21|    o|   9|  4| zxc| 21|    o|   9|\n",
            "|  2| asd| 23|    l|   9|  2| asd| 23|    l|   9|\n",
            "|  3| aws| 24|    k|  67|  3| aws| 24|    k|  67|\n",
            "|  1| qwe| 30|    l|   8|  1| qwe| 30|    l|   8|\n",
            "+---+----+---+-----+----+---+----+---+-----+----+\n",
            "\n"
          ]
        }
      ]
    },
    {
      "cell_type": "code",
      "source": [
        "df2.join(df2,df2['age']==df2['age'],'inner').select(df2['name']).show()"
      ],
      "metadata": {
        "colab": {
          "base_uri": "https://localhost:8080/",
          "height": 425
        },
        "id": "RD4HHEu5Pw5c",
        "outputId": "135c735c-c7ec-4321-bab4-8f714e0be01b"
      },
      "execution_count": null,
      "outputs": [
        {
          "output_type": "error",
          "ename": "AnalysisException",
          "evalue": "Column name#988 are ambiguous. It's probably because you joined several Datasets together, and some of these Datasets are the same. This column points to one of the Datasets but Spark is unable to figure out which one. Please alias the Datasets with different names via `Dataset.as` before joining them, and specify the column using qualified name, e.g. `df.as(\"a\").join(df.as(\"b\"), $\"a.id\" > $\"b.id\")`. You can also set spark.sql.analyzer.failAmbiguousSelfJoin to false to disable this check.",
          "traceback": [
            "\u001b[0;31m---------------------------------------------------------------------------\u001b[0m",
            "\u001b[0;31mAnalysisException\u001b[0m                         Traceback (most recent call last)",
            "\u001b[0;32m<ipython-input-117-38e4d56ec00f>\u001b[0m in \u001b[0;36m<cell line: 0>\u001b[0;34m()\u001b[0m\n\u001b[0;32m----> 1\u001b[0;31m \u001b[0mdf2\u001b[0m\u001b[0;34m.\u001b[0m\u001b[0mjoin\u001b[0m\u001b[0;34m(\u001b[0m\u001b[0mdf2\u001b[0m\u001b[0;34m,\u001b[0m\u001b[0mdf2\u001b[0m\u001b[0;34m[\u001b[0m\u001b[0;34m'age'\u001b[0m\u001b[0;34m]\u001b[0m\u001b[0;34m==\u001b[0m\u001b[0mdf2\u001b[0m\u001b[0;34m[\u001b[0m\u001b[0;34m'age'\u001b[0m\u001b[0;34m]\u001b[0m\u001b[0;34m,\u001b[0m\u001b[0;34m'inner'\u001b[0m\u001b[0;34m)\u001b[0m\u001b[0;34m.\u001b[0m\u001b[0mselect\u001b[0m\u001b[0;34m(\u001b[0m\u001b[0mdf2\u001b[0m\u001b[0;34m[\u001b[0m\u001b[0;34m'name'\u001b[0m\u001b[0;34m]\u001b[0m\u001b[0;34m)\u001b[0m\u001b[0;34m.\u001b[0m\u001b[0mshow\u001b[0m\u001b[0;34m(\u001b[0m\u001b[0;34m)\u001b[0m\u001b[0;34m\u001b[0m\u001b[0;34m\u001b[0m\u001b[0m\n\u001b[0m",
            "\u001b[0;32m/usr/local/lib/python3.11/dist-packages/pyspark/sql/dataframe.py\u001b[0m in \u001b[0;36mselect\u001b[0;34m(self, *cols)\u001b[0m\n\u001b[1;32m   3227\u001b[0m         \u001b[0;34m+\u001b[0m\u001b[0;34m-\u001b[0m\u001b[0;34m-\u001b[0m\u001b[0;34m-\u001b[0m\u001b[0;34m-\u001b[0m\u001b[0;34m-\u001b[0m\u001b[0;34m+\u001b[0m\u001b[0;34m-\u001b[0m\u001b[0;34m-\u001b[0m\u001b[0;34m-\u001b[0m\u001b[0;34m+\u001b[0m\u001b[0;34m\u001b[0m\u001b[0;34m\u001b[0m\u001b[0m\n\u001b[1;32m   3228\u001b[0m         \"\"\"\n\u001b[0;32m-> 3229\u001b[0;31m         \u001b[0mjdf\u001b[0m \u001b[0;34m=\u001b[0m \u001b[0mself\u001b[0m\u001b[0;34m.\u001b[0m\u001b[0m_jdf\u001b[0m\u001b[0;34m.\u001b[0m\u001b[0mselect\u001b[0m\u001b[0;34m(\u001b[0m\u001b[0mself\u001b[0m\u001b[0;34m.\u001b[0m\u001b[0m_jcols\u001b[0m\u001b[0;34m(\u001b[0m\u001b[0;34m*\u001b[0m\u001b[0mcols\u001b[0m\u001b[0;34m)\u001b[0m\u001b[0;34m)\u001b[0m\u001b[0;34m\u001b[0m\u001b[0;34m\u001b[0m\u001b[0m\n\u001b[0m\u001b[1;32m   3230\u001b[0m         \u001b[0;32mreturn\u001b[0m \u001b[0mDataFrame\u001b[0m\u001b[0;34m(\u001b[0m\u001b[0mjdf\u001b[0m\u001b[0;34m,\u001b[0m \u001b[0mself\u001b[0m\u001b[0;34m.\u001b[0m\u001b[0msparkSession\u001b[0m\u001b[0;34m)\u001b[0m\u001b[0;34m\u001b[0m\u001b[0;34m\u001b[0m\u001b[0m\n\u001b[1;32m   3231\u001b[0m \u001b[0;34m\u001b[0m\u001b[0m\n",
            "\u001b[0;32m/usr/local/lib/python3.11/dist-packages/py4j/java_gateway.py\u001b[0m in \u001b[0;36m__call__\u001b[0;34m(self, *args)\u001b[0m\n\u001b[1;32m   1320\u001b[0m \u001b[0;34m\u001b[0m\u001b[0m\n\u001b[1;32m   1321\u001b[0m         \u001b[0manswer\u001b[0m \u001b[0;34m=\u001b[0m \u001b[0mself\u001b[0m\u001b[0;34m.\u001b[0m\u001b[0mgateway_client\u001b[0m\u001b[0;34m.\u001b[0m\u001b[0msend_command\u001b[0m\u001b[0;34m(\u001b[0m\u001b[0mcommand\u001b[0m\u001b[0;34m)\u001b[0m\u001b[0;34m\u001b[0m\u001b[0;34m\u001b[0m\u001b[0m\n\u001b[0;32m-> 1322\u001b[0;31m         return_value = get_return_value(\n\u001b[0m\u001b[1;32m   1323\u001b[0m             answer, self.gateway_client, self.target_id, self.name)\n\u001b[1;32m   1324\u001b[0m \u001b[0;34m\u001b[0m\u001b[0m\n",
            "\u001b[0;32m/usr/local/lib/python3.11/dist-packages/pyspark/errors/exceptions/captured.py\u001b[0m in \u001b[0;36mdeco\u001b[0;34m(*a, **kw)\u001b[0m\n\u001b[1;32m    183\u001b[0m                 \u001b[0;31m# Hide where the exception came from that shows a non-Pythonic\u001b[0m\u001b[0;34m\u001b[0m\u001b[0;34m\u001b[0m\u001b[0m\n\u001b[1;32m    184\u001b[0m                 \u001b[0;31m# JVM exception message.\u001b[0m\u001b[0;34m\u001b[0m\u001b[0;34m\u001b[0m\u001b[0m\n\u001b[0;32m--> 185\u001b[0;31m                 \u001b[0;32mraise\u001b[0m \u001b[0mconverted\u001b[0m \u001b[0;32mfrom\u001b[0m \u001b[0;32mNone\u001b[0m\u001b[0;34m\u001b[0m\u001b[0;34m\u001b[0m\u001b[0m\n\u001b[0m\u001b[1;32m    186\u001b[0m             \u001b[0;32melse\u001b[0m\u001b[0;34m:\u001b[0m\u001b[0;34m\u001b[0m\u001b[0;34m\u001b[0m\u001b[0m\n\u001b[1;32m    187\u001b[0m                 \u001b[0;32mraise\u001b[0m\u001b[0;34m\u001b[0m\u001b[0;34m\u001b[0m\u001b[0m\n",
            "\u001b[0;31mAnalysisException\u001b[0m: Column name#988 are ambiguous. It's probably because you joined several Datasets together, and some of these Datasets are the same. This column points to one of the Datasets but Spark is unable to figure out which one. Please alias the Datasets with different names via `Dataset.as` before joining them, and specify the column using qualified name, e.g. `df.as(\"a\").join(df.as(\"b\"), $\"a.id\" > $\"b.id\")`. You can also set spark.sql.analyzer.failAmbiguousSelfJoin to false to disable this check."
          ]
        }
      ]
    },
    {
      "cell_type": "code",
      "source": [
        "from pyspark.sql.functions import split, explode"
      ],
      "metadata": {
        "id": "uJejCA2UGsA5"
      },
      "execution_count": 1,
      "outputs": []
    },
    {
      "cell_type": "markdown",
      "source": [
        "**Split and Explode : split will divide it into array**"
      ],
      "metadata": {
        "id": "-AnuafHEHtcP"
      }
    },
    {
      "cell_type": "code",
      "source": [
        "df2.select(df2.name,explode(split(df2.age,',')).alias('AGE'))"
      ],
      "metadata": {
        "id": "Pm0zdl9CGyyO"
      },
      "execution_count": null,
      "outputs": []
    },
    {
      "cell_type": "markdown",
      "source": [
        "**Give first not null value in the columns**"
      ],
      "metadata": {
        "id": "GS-VfASWIhlA"
      }
    },
    {
      "cell_type": "code",
      "source": [
        "from pyspark.sql import SparkSession\n",
        "from datetime import datetime, date\n",
        "from pyspark.sql.functions import coalesce, when\n",
        "from pyspark.sql import Row, Column\n",
        "\n",
        "spark = SparkSession.builder.getOrCreate()\n",
        "data = [('Goa','','AP'),\n",
        "        ('','AP',None),\n",
        "        (None,'','bglr')]\n",
        "columns =['city1','city2','city3']\n",
        "df4 = spark.createDataFrame(data,columns)\n",
        "df4.show()"
      ],
      "metadata": {
        "colab": {
          "base_uri": "https://localhost:8080/"
        },
        "id": "JW4_LQkFIBV7",
        "outputId": "9e6febc7-fcfa-437d-eab7-df89c9cd4a96"
      },
      "execution_count": 15,
      "outputs": [
        {
          "output_type": "stream",
          "name": "stdout",
          "text": [
            "+-----+-----+-----+\n",
            "|city1|city2|city3|\n",
            "+-----+-----+-----+\n",
            "|  Goa|     |   AP|\n",
            "|     |   AP| NULL|\n",
            "| NULL|     | bglr|\n",
            "+-----+-----+-----+\n",
            "\n"
          ]
        }
      ]
    },
    {
      "cell_type": "code",
      "source": [
        "df4.select(coalesce(when(df4.city1=='',None).otherwise(df4.city1),\n",
        "                    when(df4.city2=='',None).otherwise(df4.city2),\n",
        "                    when(df4.city3=='',None).otherwise(df4.city3)\n",
        "                    ).alias('Cities')).show()"
      ],
      "metadata": {
        "colab": {
          "base_uri": "https://localhost:8080/"
        },
        "id": "dRBIE0nMJK-J",
        "outputId": "fc47c9ae-445a-4e4c-cf58-8ef9de745e4f"
      },
      "execution_count": 18,
      "outputs": [
        {
          "output_type": "stream",
          "name": "stdout",
          "text": [
            "+------+\n",
            "|Cities|\n",
            "+------+\n",
            "|   Goa|\n",
            "|    AP|\n",
            "|  bglr|\n",
            "+------+\n",
            "\n"
          ]
        }
      ]
    },
    {
      "cell_type": "markdown",
      "source": [
        "**Calculate percentage, joining two table**"
      ],
      "metadata": {
        "id": "AEHgkcNkPTQp"
      }
    },
    {
      "cell_type": "code",
      "source": [
        "data1=[(1,\"Steve\"),(2,\"David\"),(3,\"John\"),(4,\"Shree\"),(5,\"Helen\")]\n",
        "data2=[(1,\"SQL\",90),(1,\"PySpark\",100),(2,\"SQL\",70),(2,\"PySpark\",60),(3,\"SQL\",30),(3,\"PySpark\",20),(4,\"SQL\",50),(4,\"PySpark\",50),(5,\"SQL\",45),(5,\"PySpark\",45)]\n",
        "\n",
        "schema1=[\"Id\",\"Name\"]\n",
        "schema2=[\"Id\",\"Subject\",\"Mark\"]\n",
        "\n",
        "df_1=spark.createDataFrame(data1,schema1)\n",
        "df_2=spark.createDataFrame(data2,schema2)\n",
        "display(df_1)\n",
        "display(df_2)"
      ],
      "metadata": {
        "colab": {
          "base_uri": "https://localhost:8080/",
          "height": 52
        },
        "id": "MEHynPCeRj8o",
        "outputId": "386fa3aa-dafd-4557-b16a-e6b4c31b664e"
      },
      "execution_count": 19,
      "outputs": [
        {
          "output_type": "display_data",
          "data": {
            "text/plain": [
              "DataFrame[Id: bigint, Name: string]"
            ]
          },
          "metadata": {}
        },
        {
          "output_type": "display_data",
          "data": {
            "text/plain": [
              "DataFrame[Id: bigint, Subject: string, Mark: bigint]"
            ]
          },
          "metadata": {}
        }
      ]
    },
    {
      "cell_type": "code",
      "source": [
        "df_join = df_1.join(df_2,df_1.Id==df_2.Id).drop(df_2.Id)\n",
        "display(df_join)"
      ],
      "metadata": {
        "colab": {
          "base_uri": "https://localhost:8080/",
          "height": 34
        },
        "id": "4C-OqiirPcs0",
        "outputId": "06eb5eec-4027-4ce3-976c-afeb46cd2d47"
      },
      "execution_count": 32,
      "outputs": [
        {
          "output_type": "display_data",
          "data": {
            "text/plain": [
              "DataFrame[Id: bigint, Name: string, Subject: string, Mark: bigint]"
            ]
          },
          "metadata": {}
        }
      ]
    },
    {
      "cell_type": "code",
      "source": [
        "from pyspark.sql.functions import *\n",
        "\n",
        "df_prev = df_join.groupBy('Id','Name').agg((sum('Mark')/count('*')).alias('Percentage'))\n",
        "display(df_prev)"
      ],
      "metadata": {
        "colab": {
          "base_uri": "https://localhost:8080/",
          "height": 34
        },
        "id": "eKttv3JpQRBJ",
        "outputId": "1e540b06-ed61-4c98-dd3b-d0af9b345b73"
      },
      "execution_count": 47,
      "outputs": [
        {
          "output_type": "display_data",
          "data": {
            "text/plain": [
              "DataFrame[Id: bigint, Name: string, Percentage: double]"
            ]
          },
          "metadata": {}
        }
      ]
    },
    {
      "cell_type": "code",
      "source": [
        "df_prev.show()"
      ],
      "metadata": {
        "colab": {
          "base_uri": "https://localhost:8080/"
        },
        "id": "DCv00s6RYFyf",
        "outputId": "0eff9d00-eabb-449f-d351-cf1d17dd0076"
      },
      "execution_count": 48,
      "outputs": [
        {
          "output_type": "stream",
          "name": "stdout",
          "text": [
            "+---+-----+----------+\n",
            "| Id| Name|Percentage|\n",
            "+---+-----+----------+\n",
            "|  1|Steve|      95.0|\n",
            "|  2|David|      65.0|\n",
            "|  3| John|      25.0|\n",
            "|  4|Shree|      50.0|\n",
            "|  5|Helen|      45.0|\n",
            "+---+-----+----------+\n",
            "\n"
          ]
        }
      ]
    },
    {
      "cell_type": "code",
      "source": [
        "df_join.groupBy('Id','Name').agg((avg('Mark')).alias('Percentage')).show()"
      ],
      "metadata": {
        "colab": {
          "base_uri": "https://localhost:8080/"
        },
        "id": "QBVV4Mf3T0xI",
        "outputId": "a17bbc70-9c19-4217-f363-2807ed078644"
      },
      "execution_count": 34,
      "outputs": [
        {
          "output_type": "stream",
          "name": "stdout",
          "text": [
            "+---+-----+----------+\n",
            "| Id| Name|Percentage|\n",
            "+---+-----+----------+\n",
            "|  1|Steve|      95.0|\n",
            "|  2|David|      65.0|\n",
            "|  3| John|      25.0|\n",
            "|  4|Shree|      50.0|\n",
            "|  5|Helen|      45.0|\n",
            "+---+-----+----------+\n",
            "\n"
          ]
        }
      ]
    },
    {
      "cell_type": "code",
      "source": [
        "df_prev.withColumn('Result',\n",
        "                   when(df_prev.Percentage>=70,'Distinction').\n",
        "                   when((df_prev.Percentage<70) & (df_prev.Percentage>=60),'First Class').\n",
        "                   when((df_prev.Percentage<60) & (df_prev.Percentage>=50),'Second Class').\n",
        "                   when((df_prev.Percentage<50) & (df_prev.Percentage>=40),'Third Class').\n",
        "                   otherwise('Fail')\n",
        "                   ).show()"
      ],
      "metadata": {
        "colab": {
          "base_uri": "https://localhost:8080/"
        },
        "id": "e82qzNJZT86Q",
        "outputId": "3cc6c837-62f1-44c8-d1e2-033201faa15c"
      },
      "execution_count": 52,
      "outputs": [
        {
          "output_type": "stream",
          "name": "stdout",
          "text": [
            "+---+-----+----------+------------+\n",
            "| Id| Name|Percentage|      Result|\n",
            "+---+-----+----------+------------+\n",
            "|  1|Steve|      95.0| Distinction|\n",
            "|  2|David|      65.0| First Class|\n",
            "|  3| John|      25.0|        Fail|\n",
            "|  4|Shree|      50.0|Second Class|\n",
            "|  5|Helen|      45.0| Third Class|\n",
            "+---+-----+----------+------------+\n",
            "\n"
          ]
        }
      ]
    },
    {
      "cell_type": "code",
      "source": [
        " data1=[(1,\"A\",1000,\"IT\"),(2,\"B\",1500,\"IT\"),(3,\"C\",2500,\"IT\"),(4,\"D\",3000,\"HR\"),(5,\"E\",2000,\"HR\"),(6,\"F\",1000,\"HR\")\n",
        "       ,(7,\"G\",4000,\"Sales\"),(8,\"H\",4000,\"Sales\"),(9,\"I\",1000,\"Sales\"),(10,\"J\",2000,\"Sales\")]\n",
        "schema1=[\"EmpId\",\"EmpName\",\"Salary\",\"DeptName\"]\n",
        "df=spark.createDataFrame(data1,schema1)\n",
        "display(df)\n",
        "df.show()"
      ],
      "metadata": {
        "colab": {
          "base_uri": "https://localhost:8080/",
          "height": 295
        },
        "id": "uny4C-AsY2qT",
        "outputId": "9311df41-2fcb-494b-9fd4-736b22011129"
      },
      "execution_count": 54,
      "outputs": [
        {
          "output_type": "display_data",
          "data": {
            "text/plain": [
              "DataFrame[EmpId: bigint, EmpName: string, Salary: bigint, DeptName: string]"
            ]
          },
          "metadata": {}
        },
        {
          "output_type": "stream",
          "name": "stdout",
          "text": [
            "+-----+-------+------+--------+\n",
            "|EmpId|EmpName|Salary|DeptName|\n",
            "+-----+-------+------+--------+\n",
            "|    1|      A|  1000|      IT|\n",
            "|    2|      B|  1500|      IT|\n",
            "|    3|      C|  2500|      IT|\n",
            "|    4|      D|  3000|      HR|\n",
            "|    5|      E|  2000|      HR|\n",
            "|    6|      F|  1000|      HR|\n",
            "|    7|      G|  4000|   Sales|\n",
            "|    8|      H|  4000|   Sales|\n",
            "|    9|      I|  1000|   Sales|\n",
            "|   10|      J|  2000|   Sales|\n",
            "+-----+-------+------+--------+\n",
            "\n"
          ]
        }
      ]
    },
    {
      "cell_type": "code",
      "source": [
        "from pyspark.sql.window import *\n",
        "dense_df = df.select('*',\n",
        "                  dense_rank().over(Window.partitionBy(df.DeptName).orderBy(df.Salary.desc())).alias(\"Rank\")\n",
        ")\n",
        "dense_df.show()"
      ],
      "metadata": {
        "colab": {
          "base_uri": "https://localhost:8080/"
        },
        "id": "Pb015KaDZgwE",
        "outputId": "92aff71b-94dd-4806-9b67-6466bff82374"
      },
      "execution_count": 62,
      "outputs": [
        {
          "output_type": "stream",
          "name": "stdout",
          "text": [
            "+-----+-------+------+--------+----+\n",
            "|EmpId|EmpName|Salary|DeptName|Rank|\n",
            "+-----+-------+------+--------+----+\n",
            "|    4|      D|  3000|      HR|   1|\n",
            "|    5|      E|  2000|      HR|   2|\n",
            "|    6|      F|  1000|      HR|   3|\n",
            "|    3|      C|  2500|      IT|   1|\n",
            "|    2|      B|  1500|      IT|   2|\n",
            "|    1|      A|  1000|      IT|   3|\n",
            "|    7|      G|  4000|   Sales|   1|\n",
            "|    8|      H|  4000|   Sales|   1|\n",
            "|   10|      J|  2000|   Sales|   2|\n",
            "|    9|      I|  1000|   Sales|   3|\n",
            "+-----+-------+------+--------+----+\n",
            "\n"
          ]
        }
      ]
    },
    {
      "cell_type": "code",
      "source": [
        "dense_df.select('*').where(dense_df.Rank==1).show()"
      ],
      "metadata": {
        "colab": {
          "base_uri": "https://localhost:8080/"
        },
        "id": "JrXU_yxkcUtN",
        "outputId": "cd4bee32-8941-4db2-c2cb-251da9a73802"
      },
      "execution_count": 63,
      "outputs": [
        {
          "output_type": "stream",
          "name": "stdout",
          "text": [
            "+-----+-------+------+--------+----+\n",
            "|EmpId|EmpName|Salary|DeptName|Rank|\n",
            "+-----+-------+------+--------+----+\n",
            "|    4|      D|  3000|      HR|   1|\n",
            "|    3|      C|  2500|      IT|   1|\n",
            "|    7|      G|  4000|   Sales|   1|\n",
            "|    8|      H|  4000|   Sales|   1|\n",
            "+-----+-------+------+--------+----+\n",
            "\n"
          ]
        }
      ]
    },
    {
      "cell_type": "code",
      "source": [
        "dense_df.filter(dense_df.Rank==1).show()"
      ],
      "metadata": {
        "colab": {
          "base_uri": "https://localhost:8080/"
        },
        "id": "9y71Ez-hcqQk",
        "outputId": "1b7f0e4e-f464-4ffe-a2dd-700279f3a39a"
      },
      "execution_count": 65,
      "outputs": [
        {
          "output_type": "stream",
          "name": "stdout",
          "text": [
            "+-----+-------+------+--------+----+\n",
            "|EmpId|EmpName|Salary|DeptName|Rank|\n",
            "+-----+-------+------+--------+----+\n",
            "|    4|      D|  3000|      HR|   1|\n",
            "|    3|      C|  2500|      IT|   1|\n",
            "|    7|      G|  4000|   Sales|   1|\n",
            "|    8|      H|  4000|   Sales|   1|\n",
            "+-----+-------+------+--------+----+\n",
            "\n"
          ]
        }
      ]
    },
    {
      "cell_type": "code",
      "source": [
        "data1=[(100,\"Raj\",None,1,\"01-04-23\",50000),\n",
        "       (200,\"Joanne\",100,1,\"01-04-23\",4000),(200,\"Joanne\",100,1,\"13-04-23\",4500),(200,\"Joanne\",100,1,\"14-04-23\",4020)]\n",
        "schema1=[\"EmpId\",\"EmpName\",\"Mgrid\",\"deptid\",\"salarydt\",\"salary\"]\n",
        "df_salary=spark.createDataFrame(data1,schema1)\n",
        "df_salary.show()\n",
        "#department dataframe\n",
        "data2=[(1,\"IT\"),\n",
        "       (2,\"HR\")]\n",
        "schema2=[\"deptid\",\"deptname\"]\n",
        "df_dept=spark.createDataFrame(data2,schema2)\n",
        "df_dept.show()"
      ],
      "metadata": {
        "colab": {
          "base_uri": "https://localhost:8080/"
        },
        "id": "p3logcdsevPH",
        "outputId": "e624b047-7ac8-4917-cc3d-194deffa59ab"
      },
      "execution_count": 67,
      "outputs": [
        {
          "output_type": "stream",
          "name": "stdout",
          "text": [
            "+-----+-------+-----+------+--------+------+\n",
            "|EmpId|EmpName|Mgrid|deptid|salarydt|salary|\n",
            "+-----+-------+-----+------+--------+------+\n",
            "|  100|    Raj| NULL|     1|01-04-23| 50000|\n",
            "|  200| Joanne|  100|     1|01-04-23|  4000|\n",
            "|  200| Joanne|  100|     1|13-04-23|  4500|\n",
            "|  200| Joanne|  100|     1|14-04-23|  4020|\n",
            "+-----+-------+-----+------+--------+------+\n",
            "\n",
            "+------+--------+\n",
            "|deptid|deptname|\n",
            "+------+--------+\n",
            "|     1|      IT|\n",
            "|     2|      HR|\n",
            "+------+--------+\n",
            "\n"
          ]
        }
      ]
    },
    {
      "cell_type": "code",
      "source": [
        "df_join1 = df_salary.join(df_dept,df_salary.deptid==df_dept.deptid)\n",
        "df_join1.show()\n"
      ],
      "metadata": {
        "colab": {
          "base_uri": "https://localhost:8080/"
        },
        "id": "ztoNk4rye2hk",
        "outputId": "ba4ede3a-5e3f-4d58-85bd-6a51ee478bdc"
      },
      "execution_count": 72,
      "outputs": [
        {
          "output_type": "stream",
          "name": "stdout",
          "text": [
            "+-----+-------+-----+------+--------+------+------+--------+\n",
            "|EmpId|EmpName|Mgrid|deptid|salarydt|salary|deptid|deptname|\n",
            "+-----+-------+-----+------+--------+------+------+--------+\n",
            "|  100|    Raj| NULL|     1|01-04-23| 50000|     1|      IT|\n",
            "|  200| Joanne|  100|     1|01-04-23|  4000|     1|      IT|\n",
            "|  200| Joanne|  100|     1|13-04-23|  4500|     1|      IT|\n",
            "|  200| Joanne|  100|     1|14-04-23|  4020|     1|      IT|\n",
            "+-----+-------+-----+------+--------+------+------+--------+\n",
            "\n"
          ]
        }
      ]
    },
    {
      "cell_type": "code",
      "source": [
        "df_join2 = df_join1.alias('a').join(df_salary.alias('b'),col('a.Mgrid')==col('b.EmpId'),'left').select(\n",
        "                        col('a.deptname').alias('DeptName'),\n",
        "                        col('b.EmpName').alias('MgrName'),\n",
        "                        col('a.EmpName'),\n",
        "                        col('a.salarydt'),\n",
        "                        col('a.salary')\n",
        "                    )\n",
        "df_join2.show()"
      ],
      "metadata": {
        "colab": {
          "base_uri": "https://localhost:8080/"
        },
        "id": "V-ms8mP-f4rQ",
        "outputId": "355a5a9d-95f7-48f1-884d-48b0ccb45763"
      },
      "execution_count": 96,
      "outputs": [
        {
          "output_type": "stream",
          "name": "stdout",
          "text": [
            "+--------+-------+-------+--------+------+\n",
            "|DeptName|MgrName|EmpName|salarydt|salary|\n",
            "+--------+-------+-------+--------+------+\n",
            "|      IT|   NULL|    Raj|01-04-23| 50000|\n",
            "|      IT|    Raj| Joanne|01-04-23|  4000|\n",
            "|      IT|    Raj| Joanne|13-04-23|  4500|\n",
            "|      IT|    Raj| Joanne|14-04-23|  4020|\n",
            "+--------+-------+-------+--------+------+\n",
            "\n"
          ]
        }
      ]
    },
    {
      "cell_type": "code",
      "source": [
        "df = df_join2.select('*',\n",
        "                (year(to_date(df_join2.salarydt,'dd-MM-yy'))).alias('Sal-Year'),\n",
        "                (month(to_date(df_join2.salarydt,'dd-MM-yy'))).alias('Sal-Month')\n",
        "                )\n",
        "df.show()"
      ],
      "metadata": {
        "colab": {
          "base_uri": "https://localhost:8080/"
        },
        "id": "sr8C7VkNj_Uy",
        "outputId": "2ff68a95-dddd-4664-80a1-880c950f988d"
      },
      "execution_count": 113,
      "outputs": [
        {
          "output_type": "stream",
          "name": "stdout",
          "text": [
            "+--------+-------+-------+--------+------+--------+---------+\n",
            "|DeptName|MgrName|EmpName|salarydt|salary|Sal-Year|Sal-Month|\n",
            "+--------+-------+-------+--------+------+--------+---------+\n",
            "|      IT|   NULL|    Raj|01-04-23| 50000|    2023|        4|\n",
            "|      IT|    Raj| Joanne|01-04-23|  4000|    2023|        4|\n",
            "|      IT|    Raj| Joanne|13-04-23|  4500|    2023|        4|\n",
            "|      IT|    Raj| Joanne|14-04-23|  4020|    2023|        4|\n",
            "+--------+-------+-------+--------+------+--------+---------+\n",
            "\n"
          ]
        }
      ]
    },
    {
      "cell_type": "code",
      "source": [
        "df.groupBy('DeptName','MgrName','EmpName','Sal-Year','Sal-Month'\n",
        ").sum('salary').show()"
      ],
      "metadata": {
        "colab": {
          "base_uri": "https://localhost:8080/"
        },
        "id": "JEscgw0bqfct",
        "outputId": "7de12839-e354-4aaf-dab4-6b898250ea99"
      },
      "execution_count": 115,
      "outputs": [
        {
          "output_type": "stream",
          "name": "stdout",
          "text": [
            "+--------+-------+-------+--------+---------+-----------+\n",
            "|DeptName|MgrName|EmpName|Sal-Year|Sal-Month|sum(salary)|\n",
            "+--------+-------+-------+--------+---------+-----------+\n",
            "|      IT|    Raj| Joanne|    2023|        4|      12520|\n",
            "|      IT|   NULL|    Raj|    2023|        4|      50000|\n",
            "+--------+-------+-------+--------+---------+-----------+\n",
            "\n"
          ]
        }
      ]
    }
  ]
}